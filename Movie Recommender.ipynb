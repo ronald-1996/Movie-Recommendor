{
 "cells": [
  {
   "cell_type": "code",
   "execution_count": 3,
   "metadata": {
    "id": "7R6VxGlovCCg"
   },
   "outputs": [],
   "source": [
    "import os\n",
    "os.environ[\"JAVA_HOME\"] = \"C:/Java/jdk1.8.0_261\"\n",
    "os.environ[\"SPARK_HOME\"] = \"D:/Spark/spark-3.0.1-bin-hadoop2.7\""
   ]
  },
  {
   "cell_type": "code",
   "execution_count": 4,
   "metadata": {
    "id": "CFkJcga3vCCh"
   },
   "outputs": [],
   "source": [
    "import findspark\n",
    "findspark.init()\n",
    "from pyspark.sql import SparkSession\n",
    "spark = SparkSession.builder.master(\"local[*]\").getOrCreate()"
   ]
  },
  {
   "cell_type": "markdown",
   "metadata": {},
   "source": [
    "# 1. Demographic Filtering"
   ]
  },
  {
   "cell_type": "code",
   "execution_count": 28,
   "metadata": {},
   "outputs": [],
   "source": [
    "import pandas as pd\n",
    "from pyspark.sql.functions import col\n",
    "from pyspark.sql.functions import mean as _mean\n",
    "import pyspark.sql.functions as expr\n",
    "from pyspark.sql.functions import lit"
   ]
  },
  {
   "cell_type": "code",
   "execution_count": 18,
   "metadata": {},
   "outputs": [
    {
     "name": "stdout",
     "output_type": "stream",
     "text": [
      "+--------+--------------------+--------------------+--------------------+\n",
      "|movie_id|               title|                cast|                crew|\n",
      "+--------+--------------------+--------------------+--------------------+\n",
      "|   19995|              Avatar|[{\"cast_id\": 242,...|[{\"credit_id\": \"5...|\n",
      "|     285|Pirates of the Ca...|[{\"cast_id\": 4, \"...|[{\"credit_id\": \"5...|\n",
      "|  206647|             Spectre|[{\"cast_id\": 1, \"...|[{\"credit_id\": \"5...|\n",
      "|   49026|The Dark Knight R...|[{\"cast_id\": 2, \"...|[{\"credit_id\": \"5...|\n",
      "|   49529|         John Carter|[{\"cast_id\": 5, \"...|[{\"credit_id\": \"5...|\n",
      "|     559|        Spider-Man 3|[{\"cast_id\": 30, ...|[{\"credit_id\": \"5...|\n",
      "|   38757|             Tangled|[{\"cast_id\": 34, ...|[{\"credit_id\": \"5...|\n",
      "|   99861|Avengers: Age of ...|[{\"cast_id\": 76, ...|[{\"credit_id\": \"5...|\n",
      "|     767|Harry Potter and ...|[{\"cast_id\": 3, \"...|[{\"credit_id\": \"5...|\n",
      "|  209112|Batman v Superman...|[{\"cast_id\": 18, ...|[{\"credit_id\": \"5...|\n",
      "|    1452|    Superman Returns|[{\"cast_id\": 3, \"...|[{\"credit_id\": \"5...|\n",
      "|   10764|   Quantum of Solace|[{\"cast_id\": 1, \"...|[{\"credit_id\": \"5...|\n",
      "|      58|Pirates of the Ca...|[{\"cast_id\": 37, ...|[{\"credit_id\": \"5...|\n",
      "|   57201|     The Lone Ranger|[{\"cast_id\": 4, \"...|[{\"credit_id\": \"5...|\n",
      "|   49521|        Man of Steel|[{\"cast_id\": 2, \"...|[{\"credit_id\": \"5...|\n",
      "|    2454|The Chronicles of...|[{\"cast_id\": 1, \"...|[{\"credit_id\": \"5...|\n",
      "|   24428|        The Avengers|[{\"cast_id\": 46, ...|[{\"credit_id\": \"5...|\n",
      "|    1865|Pirates of the Ca...|[{\"cast_id\": 15, ...|[{\"credit_id\": \"5...|\n",
      "|   41154|      Men in Black 3|[{\"cast_id\": 4, \"...|[{\"credit_id\": \"5...|\n",
      "|  122917|The Hobbit: The B...|[{\"cast_id\": 10, ...|[{\"credit_id\": \"5...|\n",
      "+--------+--------------------+--------------------+--------------------+\n",
      "only showing top 20 rows\n",
      "\n"
     ]
    }
   ],
   "source": [
    "cDF = pd.read_csv(\"tmdb_5000_credits.csv\", error_bad_lines=False)\n",
    "c1DF = cDF.astype(str) # Converting pandas df to string first\n",
    "creditsDF = spark.createDataFrame(c1DF) #converting pandas df to pyspark df\n",
    "creditsDF.show()"
   ]
  },
  {
   "cell_type": "code",
   "execution_count": 19,
   "metadata": {},
   "outputs": [
    {
     "name": "stdout",
     "output_type": "stream",
     "text": [
      "+---------+--------------------+--------------------+------+--------------------+-----------------+--------------------+--------------------+------------------+--------------------+--------------------+------------+----------+-------+--------------------+--------+--------------------+--------------------+------------+----------+\n",
      "|   budget|              genres|            homepage|    id|            keywords|original_language|      original_title|            overview|        popularity|production_companies|production_countries|release_date|   revenue|runtime|    spoken_languages|  status|             tagline|               title|vote_average|vote_count|\n",
      "+---------+--------------------+--------------------+------+--------------------+-----------------+--------------------+--------------------+------------------+--------------------+--------------------+------------+----------+-------+--------------------+--------+--------------------+--------------------+------------+----------+\n",
      "|237000000|[{\"id\": 28, \"name...|http://www.avatar...| 19995|[{\"id\": 1463, \"na...|               en|              Avatar|In the 22nd centu...|        150.437577|[{\"name\": \"Ingeni...|[{\"iso_3166_1\": \"...|  2009-12-10|2787965087|  162.0|[{\"iso_639_1\": \"e...|Released|Enter the World o...|              Avatar|         7.2|     11800|\n",
      "|300000000|[{\"id\": 12, \"name...|http://disney.go....|   285|[{\"id\": 270, \"nam...|               en|Pirates of the Ca...|Captain Barbossa,...|        139.082615|[{\"name\": \"Walt D...|[{\"iso_3166_1\": \"...|  2007-05-19| 961000000|  169.0|[{\"iso_639_1\": \"e...|Released|At the end of the...|Pirates of the Ca...|         6.9|      4500|\n",
      "|245000000|[{\"id\": 28, \"name...|http://www.sonypi...|206647|[{\"id\": 470, \"nam...|               en|             Spectre|A cryptic message...|107.37678799999999|[{\"name\": \"Columb...|[{\"iso_3166_1\": \"...|  2015-10-26| 880674609|  148.0|[{\"iso_639_1\": \"f...|Released|A Plan No One Esc...|             Spectre|         6.3|      4466|\n",
      "|250000000|[{\"id\": 28, \"name...|http://www.thedar...| 49026|[{\"id\": 849, \"nam...|               en|The Dark Knight R...|Following the dea...|         112.31295|[{\"name\": \"Legend...|[{\"iso_3166_1\": \"...|  2012-07-16|1084939099|  165.0|[{\"iso_639_1\": \"e...|Released|     The Legend Ends|The Dark Knight R...|         7.6|      9106|\n",
      "|260000000|[{\"id\": 28, \"name...|http://movies.dis...| 49529|[{\"id\": 818, \"nam...|               en|         John Carter|John Carter is a ...|         43.926995|[{\"name\": \"Walt D...|[{\"iso_3166_1\": \"...|  2012-03-07| 284139100|  132.0|[{\"iso_639_1\": \"e...|Released|Lost in our world...|         John Carter|         6.1|      2124|\n",
      "|258000000|[{\"id\": 14, \"name...|http://www.sonypi...|   559|[{\"id\": 851, \"nam...|               en|        Spider-Man 3|The seemingly inv...|115.69981399999999|[{\"name\": \"Columb...|[{\"iso_3166_1\": \"...|  2007-05-01| 890871626|  139.0|[{\"iso_639_1\": \"e...|Released|  The battle within.|        Spider-Man 3|         5.9|      3576|\n",
      "|260000000|[{\"id\": 16, \"name...|http://disney.go....| 38757|[{\"id\": 1562, \"na...|               en|             Tangled|When the kingdom'...|         48.681969|[{\"name\": \"Walt D...|[{\"iso_3166_1\": \"...|  2010-11-24| 591794936|  100.0|[{\"iso_639_1\": \"e...|Released|They're taking ad...|             Tangled|         7.4|      3330|\n",
      "|280000000|[{\"id\": 28, \"name...|http://marvel.com...| 99861|[{\"id\": 8828, \"na...|               en|Avengers: Age of ...|When Tony Stark t...|134.27922900000002|[{\"name\": \"Marvel...|[{\"iso_3166_1\": \"...|  2015-04-22|1405403694|  141.0|[{\"iso_639_1\": \"e...|Released| A New Age Has Come.|Avengers: Age of ...|         7.3|      6767|\n",
      "|250000000|[{\"id\": 12, \"name...|http://harrypotte...|   767|[{\"id\": 616, \"nam...|               en|Harry Potter and ...|As Harry begins h...|         98.885637|[{\"name\": \"Warner...|[{\"iso_3166_1\": \"...|  2009-07-07| 933959197|  153.0|[{\"iso_639_1\": \"e...|Released|Dark Secrets Reve...|Harry Potter and ...|         7.4|      5293|\n",
      "|250000000|[{\"id\": 28, \"name...|http://www.batman...|209112|[{\"id\": 849, \"nam...|               en|Batman v Superman...|Fearing the actio...|        155.790452|[{\"name\": \"DC Com...|[{\"iso_3166_1\": \"...|  2016-03-23| 873260194|  151.0|[{\"iso_639_1\": \"e...|Released|  Justice or revenge|Batman v Superman...|         5.7|      7004|\n",
      "|270000000|[{\"id\": 12, \"name...|http://www.superm...|  1452|[{\"id\": 83, \"name...|               en|    Superman Returns|Superman returns ...|         57.925623|[{\"name\": \"DC Com...|[{\"iso_3166_1\": \"...|  2006-06-28| 391081192|  154.0|[{\"iso_639_1\": \"e...|Released|                 nan|    Superman Returns|         5.4|      1400|\n",
      "|200000000|[{\"id\": 12, \"name...|http://www.mgm.co...| 10764|[{\"id\": 627, \"nam...|               en|   Quantum of Solace|Quantum of Solace...|107.92881100000001|[{\"name\": \"Eon Pr...|[{\"iso_3166_1\": \"...|  2008-10-30| 586090727|  106.0|[{\"iso_639_1\": \"e...|Released|For love, for hat...|   Quantum of Solace|         6.1|      2965|\n",
      "|200000000|[{\"id\": 12, \"name...|http://disney.go....|    58|[{\"id\": 616, \"nam...|               en|Pirates of the Ca...|Captain Jack Spar...|145.84737900000002|[{\"name\": \"Walt D...|[{\"iso_3166_1\": \"...|  2006-06-20|1065659812|  151.0|[{\"iso_639_1\": \"e...|Released|       Jack is back!|Pirates of the Ca...|         7.0|      5246|\n",
      "|255000000|[{\"id\": 28, \"name...|http://disney.go....| 57201|[{\"id\": 1556, \"na...|               en|     The Lone Ranger|The Texas Rangers...|         49.046956|[{\"name\": \"Walt D...|[{\"iso_3166_1\": \"...|  2013-07-03|  89289910|  149.0|[{\"iso_639_1\": \"e...|Released|Never Take Off th...|     The Lone Ranger|         5.9|      2311|\n",
      "|225000000|[{\"id\": 28, \"name...|http://www.manofs...| 49521|[{\"id\": 83, \"name...|               en|        Man of Steel|A young boy learn...|         99.398009|[{\"name\": \"Legend...|[{\"iso_3166_1\": \"...|  2013-06-12| 662845518|  143.0|[{\"iso_639_1\": \"e...|Released|You will believe ...|        Man of Steel|         6.5|      6359|\n",
      "|225000000|[{\"id\": 12, \"name...|                 nan|  2454|[{\"id\": 818, \"nam...|               en|The Chronicles of...|One year after th...|         53.978602|[{\"name\": \"Walt D...|[{\"iso_3166_1\": \"...|  2008-05-15| 419651413|  150.0|[{\"iso_639_1\": \"e...|Released|Hope has a new face.|The Chronicles of...|         6.3|      1630|\n",
      "|220000000|[{\"id\": 878, \"nam...|http://marvel.com...| 24428|[{\"id\": 242, \"nam...|               en|        The Avengers|When an unexpecte...|        144.448633|[{\"name\": \"Paramo...|[{\"iso_3166_1\": \"...|  2012-04-25|1519557910|  143.0|[{\"iso_639_1\": \"e...|Released|Some assembly req...|        The Avengers|         7.4|     11776|\n",
      "|380000000|[{\"id\": 12, \"name...|http://disney.go....|  1865|[{\"id\": 658, \"nam...|               en|Pirates of the Ca...|Captain Jack Spar...|        135.413856|[{\"name\": \"Walt D...|[{\"iso_3166_1\": \"...|  2011-05-14|1045713802|  136.0|[{\"iso_639_1\": \"e...|Released|Live Forever Or D...|Pirates of the Ca...|         6.4|      4948|\n",
      "|225000000|[{\"id\": 28, \"name...|http://www.sonypi...| 41154|[{\"id\": 4379, \"na...|               en|      Men in Black 3|Agents J (Will Sm...|         52.035179|[{\"name\": \"Amblin...|[{\"iso_3166_1\": \"...|  2012-05-23| 624026776|  106.0|[{\"iso_639_1\": \"e...|Released|They are back... ...|      Men in Black 3|         6.2|      4160|\n",
      "|250000000|[{\"id\": 28, \"name...|http://www.thehob...|122917|[{\"id\": 417, \"nam...|               en|The Hobbit: The B...|Immediately after...|120.96574299999999|[{\"name\": \"WingNu...|[{\"iso_3166_1\": \"...|  2014-12-10| 956019788|  144.0|[{\"iso_639_1\": \"e...|Released|Witness the defin...|The Hobbit: The B...|         7.1|      4760|\n",
      "+---------+--------------------+--------------------+------+--------------------+-----------------+--------------------+--------------------+------------------+--------------------+--------------------+------------+----------+-------+--------------------+--------+--------------------+--------------------+------------+----------+\n",
      "only showing top 20 rows\n",
      "\n"
     ]
    }
   ],
   "source": [
    "mDF = pd.read_csv(\"tmdb_5000_movies.csv\", error_bad_lines=False)\n",
    "m1DF = mDF.astype(str) # Converting pandas df to string first\n",
    "moviesDF = spark.createDataFrame(m1DF) #converting pandas df to pyspark df\n",
    "moviesDF.show()"
   ]
  },
  {
   "cell_type": "markdown",
   "metadata": {},
   "source": [
    "## Selecting necessary columns "
   ]
  },
  {
   "cell_type": "code",
   "execution_count": 20,
   "metadata": {},
   "outputs": [
    {
     "name": "stdout",
     "output_type": "stream",
     "text": [
      "+------+--------------------+--------------------+--------------------+\n",
      "|    id|         movie_title|                cast|                crew|\n",
      "+------+--------------------+--------------------+--------------------+\n",
      "| 19995|              Avatar|[{\"cast_id\": 242,...|[{\"credit_id\": \"5...|\n",
      "|   285|Pirates of the Ca...|[{\"cast_id\": 4, \"...|[{\"credit_id\": \"5...|\n",
      "|206647|             Spectre|[{\"cast_id\": 1, \"...|[{\"credit_id\": \"5...|\n",
      "| 49026|The Dark Knight R...|[{\"cast_id\": 2, \"...|[{\"credit_id\": \"5...|\n",
      "| 49529|         John Carter|[{\"cast_id\": 5, \"...|[{\"credit_id\": \"5...|\n",
      "|   559|        Spider-Man 3|[{\"cast_id\": 30, ...|[{\"credit_id\": \"5...|\n",
      "| 38757|             Tangled|[{\"cast_id\": 34, ...|[{\"credit_id\": \"5...|\n",
      "| 99861|Avengers: Age of ...|[{\"cast_id\": 76, ...|[{\"credit_id\": \"5...|\n",
      "|   767|Harry Potter and ...|[{\"cast_id\": 3, \"...|[{\"credit_id\": \"5...|\n",
      "|209112|Batman v Superman...|[{\"cast_id\": 18, ...|[{\"credit_id\": \"5...|\n",
      "|  1452|    Superman Returns|[{\"cast_id\": 3, \"...|[{\"credit_id\": \"5...|\n",
      "| 10764|   Quantum of Solace|[{\"cast_id\": 1, \"...|[{\"credit_id\": \"5...|\n",
      "|    58|Pirates of the Ca...|[{\"cast_id\": 37, ...|[{\"credit_id\": \"5...|\n",
      "| 57201|     The Lone Ranger|[{\"cast_id\": 4, \"...|[{\"credit_id\": \"5...|\n",
      "| 49521|        Man of Steel|[{\"cast_id\": 2, \"...|[{\"credit_id\": \"5...|\n",
      "|  2454|The Chronicles of...|[{\"cast_id\": 1, \"...|[{\"credit_id\": \"5...|\n",
      "| 24428|        The Avengers|[{\"cast_id\": 46, ...|[{\"credit_id\": \"5...|\n",
      "|  1865|Pirates of the Ca...|[{\"cast_id\": 15, ...|[{\"credit_id\": \"5...|\n",
      "| 41154|      Men in Black 3|[{\"cast_id\": 4, \"...|[{\"credit_id\": \"5...|\n",
      "|122917|The Hobbit: The B...|[{\"cast_id\": 10, ...|[{\"credit_id\": \"5...|\n",
      "+------+--------------------+--------------------+--------------------+\n",
      "only showing top 20 rows\n",
      "\n"
     ]
    }
   ],
   "source": [
    "creditsDF = creditsDF.select(col(\"movie_id\").alias(\"id\"), col(\"title\").alias(\"movie_title\"), col(\"cast\"), col(\"crew\"))\n",
    "creditsDF.show()"
   ]
  },
  {
   "cell_type": "markdown",
   "metadata": {},
   "source": [
    "## Merging the two dataframes "
   ]
  },
  {
   "cell_type": "code",
   "execution_count": 21,
   "metadata": {},
   "outputs": [
    {
     "name": "stdout",
     "output_type": "stream",
     "text": [
      "+------+--------------------+--------------------+--------------------+---------+--------------------+--------------------+--------------------+-----------------+--------------------+--------------------+------------------+--------------------+--------------------+------------+---------+-------+--------------------+--------+--------------------+--------------------+------------+----------+\n",
      "|    id|         movie_title|                cast|                crew|   budget|              genres|            homepage|            keywords|original_language|      original_title|            overview|        popularity|production_companies|production_countries|release_date|  revenue|runtime|    spoken_languages|  status|             tagline|               title|vote_average|vote_count|\n",
      "+------+--------------------+--------------------+--------------------+---------+--------------------+--------------------+--------------------+-----------------+--------------------+--------------------+------------------+--------------------+--------------------+------------+---------+-------+--------------------+--------+--------------------+--------------------+------------+----------+\n",
      "| 10096|      13 Going on 30|[{\"cast_id\": 12, ...|[{\"credit_id\": \"5...| 37000000|[{\"id\": 35, \"name...|                 nan|[{\"id\": 242, \"nam...|               en|      13 Going on 30|After total humil...|         41.569541|[{\"name\": \"Columb...|[{\"iso_3166_1\": \"...|  2004-04-13| 96455697|   98.0|[{\"iso_639_1\": \"e...|Released|For some, 13 feel...|      13 Going on 30|         6.3|      1204|\n",
      "| 10436|The Age of Innocence|[{\"cast_id\": 1, \"...|[{\"credit_id\": \"5...| 34000000|[{\"id\": 18, \"name...|                 nan|[{\"id\": 213, \"nam...|               en|The Age of Innocence|Tale of 19th cent...|          9.133747|[{\"name\": \"Columb...|[{\"iso_3166_1\": \"...|  1993-09-17| 32255440|  139.0|[{\"iso_639_1\": \"e...|Released|In a world of tra...|The Age of Innocence|         7.0|       169|\n",
      "|  1090|The Thirteenth Floor|[{\"cast_id\": 21, ...|[{\"credit_id\": \"5...| 16000000|[{\"id\": 53, \"name...|                 nan|[{\"id\": 310, \"nam...|               en|The Thirteenth Floor|Computer scientis...|         19.890428|[{\"name\": \"Columb...|[{\"iso_3166_1\": \"...|  1999-04-16| 18564088|  100.0|[{\"iso_639_1\": \"e...|Released|Question reality....|The Thirteenth Floor|         6.8|       378|\n",
      "| 11888|           Snow Dogs|[{\"cast_id\": 39, ...|[{\"credit_id\": \"5...| 33000000|[{\"id\": 12, \"name...|                 nan|[{\"id\": 2393, \"na...|               en|           Snow Dogs|When a Miami dent...|         13.655735|[{\"name\": \"Walt D...|[{\"iso_3166_1\": \"...|  2002-01-18|        0|   99.0|[{\"iso_639_1\": \"e...|Released|Get ready for mus...|           Snow Dogs|         5.3|       185|\n",
      "| 13282|     Death Race 2000|[{\"cast_id\": 5, \"...|[{\"credit_id\": \"5...|   300000|[{\"id\": 28, \"name...|                 nan|[{\"id\": 4565, \"na...|               en|     Death Race 2000|In a boorish futu...|          6.473667|[{\"name\": \"New Wo...|[{\"iso_3166_1\": \"...|  1975-04-27|  8000000|   80.0|[{\"iso_639_1\": \"e...|Released|A Cross Country R...|     Death Race 2000|         5.9|       124|\n",
      "| 14369|            Out Cold|[{\"cast_id\": 1, \"...|[{\"credit_id\": \"5...| 24000000|[{\"id\": 35, \"name...|                 nan|[{\"id\": 554, \"nam...|               en|            Out Cold|Animal House meet...|           4.12064|[{\"name\": \"Spygla...|[{\"iso_3166_1\": \"...|  2001-11-21| 14782676|   89.0|[{\"iso_639_1\": \"e...|Released|They haven't quit...|            Out Cold|         5.8|        53|\n",
      "|  1572|Die Hard: With a ...|[{\"cast_id\": 8, \"...|[{\"credit_id\": \"5...| 90000000|[{\"id\": 28, \"name...|                 nan|[{\"id\": 258, \"nam...|               en|Die Hard: With a ...|New York detectiv...|51.881077000000005|[{\"name\": \"Twenti...|[{\"iso_3166_1\": \"...|  1995-05-19|366101666|  128.0|[{\"iso_639_1\": \"e...|Released|Think fast. Look ...|Die Hard: With a ...|         6.9|      2066|\n",
      "| 16320|            Serenity|[{\"cast_id\": 3, \"...|[{\"credit_id\": \"5...| 39000000|[{\"id\": 878, \"nam...|                 nan|[{\"id\": 779, \"nam...|               en|            Serenity|When the renegade...|         45.388937|[{\"name\": \"Univer...|[{\"iso_3166_1\": \"...|  2005-08-25| 38869464|  119.0|[{\"iso_639_1\": \"e...|Released|Can't stop the si...|            Serenity|         7.4|      1264|\n",
      "|164558|One Direction: Th...|[{\"cast_id\": 6, \"...|[{\"credit_id\": \"5...| 10000000|[{\"id\": 99, \"name...|http://www.1dthis...|[{\"id\": 6029, \"na...|               en|One Direction: Th...|Go behind the sce...| 7.944457000000001|[{\"name\": \"Columb...|[{\"iso_3166_1\": \"...|  2013-08-28|        0|   92.0|[{\"iso_639_1\": \"p...|Released|A motion picture ...|One Direction: Th...|         8.0|       201|\n",
      "| 18947|The Boat That Rocked|[{\"cast_id\": 13, ...|[{\"credit_id\": \"5...| 50000000|[{\"id\": 18, \"name...|http://www.theboa...|[{\"id\": 1025, \"na...|               en|The Boat That Rocked|The Boat that Roc...|          31.02233|[{\"name\": \"Univer...|[{\"iso_3166_1\": \"...|  2009-04-01| 36348784|  116.0|[{\"iso_639_1\": \"e...|Released|On air. Off shore...|The Boat That Rocked|         7.2|       666|\n",
      "|191714|        The Lunchbox|[{\"cast_id\": 2, \"...|[{\"credit_id\": \"5...|  1000000|[{\"id\": 18, \"name...|                 nan|                  []|               hi|               Dabba|A mistaken delive...|         14.017809|[{\"name\": \"UTV Mo...|[{\"iso_3166_1\": \"...|  2013-09-19|  4235151|  104.0|[{\"iso_639_1\": \"e...|Released|                 nan|        The Lunchbox|         7.3|       221|\n",
      "|  2069|The Whole Nine Yards|[{\"cast_id\": 10, ...|[{\"credit_id\": \"5...| 41300000|[{\"id\": 35, \"name...|                 nan|[{\"id\": 800, \"nam...|               en|The Whole Nine Yards|A mobster named J...|         23.441135|[{\"name\": \"Franch...|[{\"iso_3166_1\": \"...|  2000-02-18|106371651|   98.0|[{\"iso_639_1\": \"e...|Released|In the heart of s...|The Whole Nine Yards|         6.2|       531|\n",
      "|  2088|   Romeo Is Bleeding|[{\"cast_id\": 11, ...|[{\"credit_id\": \"5...| 11500000|[{\"id\": 28, \"name...|                 nan|[{\"id\": 4668, \"na...|               en|   Romeo Is Bleeding|A corrupt cop get...|          4.850402|[{\"name\": \"Workin...|[{\"iso_3166_1\": \"...|  1993-09-13|  3275585|  100.0|[{\"iso_639_1\": \"e...|Released|The story of a co...|   Romeo Is Bleeding|         5.7|        36|\n",
      "|  2162|        Chill Factor|[{\"cast_id\": 14, ...|[{\"credit_id\": \"5...| 70000000|[{\"id\": 28, \"name...|                 nan|                  []|               en|        Chill Factor|A store clerk and...|3.2769120000000003|[{\"name\": \"Warner...|[{\"iso_3166_1\": \"...|  1999-09-01| 11263966|  101.0|[{\"iso_639_1\": \"e...|Released|This Fall, Action...|        Chill Factor|         5.3|        29|\n",
      "|  2294|Jay and Silent Bo...|[{\"cast_id\": 9, \"...|[{\"credit_id\": \"5...| 22000000|[{\"id\": 35, \"name...|                 nan|[{\"id\": 886, \"nam...|               en|Jay and Silent Bo...|When Jay and Sile...|         21.865021|[{\"name\": \"Dimens...|[{\"iso_3166_1\": \"...|  2001-08-22| 33788161|  104.0|[{\"iso_639_1\": \"e...|Released|Hollywood had it ...|Jay and Silent Bo...|         6.4|       480|\n",
      "|   296|Terminator 3: Ris...|[{\"cast_id\": 6, \"...|[{\"credit_id\": \"5...|200000000|[{\"id\": 28, \"name...|                 nan|[{\"id\": 83, \"name...|               en|Terminator 3: Ris...|It's been 10 year...|         69.405188|[{\"name\": \"Columb...|[{\"iso_3166_1\": \"...|  2003-07-02|435000000|  109.0|[{\"iso_639_1\": \"e...|Released|The Machines Will...|Terminator 3: Ris...|         5.9|      2143|\n",
      "| 29912|            The Robe|[{\"cast_id\": 1, \"...|[{\"credit_id\": \"5...|  4100000|[{\"id\": 18, \"name...|                 nan|[{\"id\": 3571, \"na...|               en|            The Robe|Marcellus is a tr...|          4.028875|[{\"name\": \"Twenti...|[{\"iso_3166_1\": \"...|  1953-09-16| 36000000|  135.0|[{\"iso_639_1\": \"e...|Released|The first motion ...|            The Robe|         6.4|        42|\n",
      "| 32275|     Duel in the Sun|[{\"cast_id\": 3, \"...|[{\"credit_id\": \"5...|  6000000|[{\"id\": 37, \"name...|                 nan|[{\"id\": 183528, \"...|               en|     Duel in the Sun|Beautiful half-br...|           7.60445|[{\"name\": \"The Se...|[{\"iso_3166_1\": \"...|  1946-12-31| 20400000|  144.0|[{\"iso_639_1\": \"e...|Released|Emotions . . . As...|     Duel in the Sun|         6.2|        37|\n",
      "| 38223|     Harriet the Spy|[{\"cast_id\": 1, \"...|[{\"credit_id\": \"5...| 12000000|[{\"id\": 35, \"name...|                 nan|[{\"id\": 470, \"nam...|               en|     Harriet the Spy|When the secret n...|           4.63093|[{\"name\": \"Paramo...|[{\"iso_3166_1\": \"...|  1996-07-10|        0|  100.0|[{\"iso_639_1\": \"e...|Released|       On your case!|     Harriet the Spy|         5.7|        46|\n",
      "|  4032|             My Girl|[{\"cast_id\": 2, \"...|[{\"credit_id\": \"5...| 16500000|[{\"id\": 35, \"name...|                 nan|[{\"id\": 10226, \"n...|               en|             My Girl|Vada Sultenfuss i...|20.935169000000002|[{\"name\": \"Columb...|[{\"iso_3166_1\": \"...|  1991-11-27|        0|  102.0|[{\"iso_639_1\": \"c...|Released|When your Dad's a...|             My Girl|         7.0|       428|\n",
      "+------+--------------------+--------------------+--------------------+---------+--------------------+--------------------+--------------------+-----------------+--------------------+--------------------+------------------+--------------------+--------------------+------------+---------+-------+--------------------+--------+--------------------+--------------------+------------+----------+\n",
      "only showing top 20 rows\n",
      "\n"
     ]
    }
   ],
   "source": [
    "df_Merge = creditsDF.join(moviesDF,['id'],how='inner')\n",
    "\n",
    "df_Merge.show()"
   ]
  },
  {
   "cell_type": "markdown",
   "metadata": {},
   "source": [
    "## Calculating the mean value for 'vote_average' column to be used later in the formula for calculating the score"
   ]
  },
  {
   "cell_type": "code",
   "execution_count": 22,
   "metadata": {},
   "outputs": [
    {
     "data": {
      "text/plain": [
       "6.092171559442015"
      ]
     },
     "execution_count": 22,
     "metadata": {},
     "output_type": "execute_result"
    }
   ],
   "source": [
    "df_stats = df_Merge.select(_mean(col(\"vote_average\")).alias('mean')).collect()\n",
    "\n",
    "c = df_stats[0]['mean']\n",
    "c"
   ]
  },
  {
   "cell_type": "markdown",
   "metadata": {},
   "source": [
    "## Calculating the 90th percentile for 'vote_count' column to be used later in the formula for calculating the score "
   ]
  },
  {
   "cell_type": "code",
   "execution_count": 23,
   "metadata": {},
   "outputs": [
    {
     "data": {
      "text/plain": [
       "1838.4000000000015"
      ]
     },
     "execution_count": 23,
     "metadata": {},
     "output_type": "execute_result"
    }
   ],
   "source": [
    "mean_df=df_Merge.selectExpr('percentile(vote_count, 0.9)')\n",
    "m = mean_df.collect()[0]\n",
    "m1=m[\"percentile(CAST(vote_count AS DOUBLE), CAST(0.9 AS DOUBLE), 1)\"]\n",
    "m1"
   ]
  },
  {
   "cell_type": "code",
   "execution_count": 26,
   "metadata": {},
   "outputs": [
    {
     "name": "stdout",
     "output_type": "stream",
     "text": [
      "+------+--------------------+--------------------+--------------------+---------+--------------------+--------------------+--------------------+-----------------+--------------------+--------------------+------------------+--------------------+--------------------+------------+---------+-------+--------------------+--------+--------------------+--------------------+------------+----------+\n",
      "|    id|         movie_title|                cast|                crew|   budget|              genres|            homepage|            keywords|original_language|      original_title|            overview|        popularity|production_companies|production_countries|release_date|  revenue|runtime|    spoken_languages|  status|             tagline|               title|vote_average|vote_count|\n",
      "+------+--------------------+--------------------+--------------------+---------+--------------------+--------------------+--------------------+-----------------+--------------------+--------------------+------------------+--------------------+--------------------+------------+---------+-------+--------------------+--------+--------------------+--------------------+------------+----------+\n",
      "|  1572|Die Hard: With a ...|[{\"cast_id\": 8, \"...|[{\"credit_id\": \"5...| 90000000|[{\"id\": 28, \"name...|                 nan|[{\"id\": 258, \"nam...|               en|Die Hard: With a ...|New York detectiv...|51.881077000000005|[{\"name\": \"Twenti...|[{\"iso_3166_1\": \"...|  1995-05-19|366101666|  128.0|[{\"iso_639_1\": \"e...|Released|Think fast. Look ...|Die Hard: With a ...|         6.9|      2066|\n",
      "|   296|Terminator 3: Ris...|[{\"cast_id\": 6, \"...|[{\"credit_id\": \"5...|200000000|[{\"id\": 28, \"name...|                 nan|[{\"id\": 83, \"name...|               en|Terminator 3: Ris...|It's been 10 year...|         69.405188|[{\"name\": \"Columb...|[{\"iso_3166_1\": \"...|  2003-07-02|435000000|  109.0|[{\"iso_639_1\": \"e...|Released|The Machines Will...|Terminator 3: Ris...|         5.9|      2143|\n",
      "|   675|Harry Potter and ...|[{\"cast_id\": 22, ...|[{\"credit_id\": \"5...|150000000|[{\"id\": 12, \"name...|http://www.harryp...|[{\"id\": 530, \"nam...|               en|Harry Potter and ...|Returning for his...| 78.14439499999999|[{\"name\": \"Warner...|[{\"iso_3166_1\": \"...|  2007-06-28|938212738|  138.0|[{\"iso_639_1\": \"e...|Released|Evil Must Be Conf...|Harry Potter and ...|         7.4|      5494|\n",
      "|100402|Captain America: ...|[{\"cast_id\": 1, \"...|[{\"credit_id\": \"5...|170000000|[{\"id\": 28, \"name...|http://www.captai...|[{\"id\": 521, \"nam...|               en|Captain America: ...|After the catacly...| 72.22526500000001|[{\"name\": \"Marvel...|[{\"iso_3166_1\": \"...|  2014-03-20|714766572|  136.0|[{\"iso_639_1\": \"e...|Released| In heroes we trust.|Captain America: ...|         7.6|      5764|\n",
      "|  1372|       Blood Diamond|[{\"cast_id\": 27, ...|[{\"credit_id\": \"5...|100000000|[{\"id\": 18, \"name...|                 nan|[{\"id\": 526, \"nam...|               en|       Blood Diamond|An ex-mercenary t...|         52.792678|[{\"name\": \"Bedfor...|[{\"iso_3166_1\": \"...|  2006-12-07|170877916|  143.0|[{\"iso_639_1\": \"a...|Released|It will cost you ...|       Blood Diamond|         7.3|      2281|\n",
      "|222935|The Fault in Our ...|[{\"cast_id\": 1, \"...|[{\"credit_id\": \"5...| 12000000|[{\"id\": 10749, \"n...|                 nan|[{\"id\": 587, \"nam...|               en|The Fault in Our ...|Despite the tumor...|         74.358971|[{\"name\": \"Fox 20...|[{\"iso_3166_1\": \"...|  2014-05-16|307166834|  125.0|[{\"iso_639_1\": \"e...|Released| One Sick Love Story|The Fault in Our ...|         7.6|      3759|\n",
      "| 32657|Percy Jackson & t...|[{\"cast_id\": 1, \"...|[{\"credit_id\": \"5...| 95000000|[{\"id\": 12, \"name...|                 nan|[{\"id\": 1299, \"na...|               en|Percy Jackson & t...|Accident prone te...|61.121717000000004|[{\"name\": \"Ingeni...|[{\"iso_3166_1\": \"...|  2010-02-01|226497209|  118.0|[{\"iso_639_1\": \"e...|Released|      Worlds Collide|Percy Jackson & t...|         6.0|      2010|\n",
      "| 47933|Independence Day:...|[{\"cast_id\": 5, \"...|[{\"credit_id\": \"5...|165000000|[{\"id\": 28, \"name...|http://www.warof1...|[{\"id\": 12026, \"n...|               en|Independence Day:...|We always knew th...|         48.775723|[{\"name\": \"Twenti...|[{\"iso_3166_1\": \"...|  2016-06-22|389681935|  120.0|[{\"iso_639_1\": \"e...|Released|We had twenty yea...|Independence Day:...|         4.9|      2491|\n",
      "|   591|   The Da Vinci Code|[{\"cast_id\": 33, ...|[{\"credit_id\": \"5...|125000000|[{\"id\": 53, \"name...|http://www.sonypi...|[{\"id\": 90, \"name...|               en|   The Da Vinci Code|When the curator ...|45.313196999999995|[{\"name\": \"Columb...|[{\"iso_3166_1\": \"...|  2006-05-17|767820459|  149.0|[{\"iso_639_1\": \"e...|Released|     Seek the truth.|   The Da Vinci Code|         6.5|      2704|\n",
      "| 10195|                Thor|[{\"cast_id\": 1, \"...|[{\"credit_id\": \"5...|150000000|[{\"id\": 12, \"name...|http://thor.marve...|[{\"id\": 1508, \"na...|               en|                Thor|Against his fathe...|         86.493424|[{\"name\": \"Marvel...|[{\"iso_3166_1\": \"...|  2011-04-21|449326618|  115.0|[{\"iso_639_1\": \"e...|Released|Two worlds. One h...|                Thor|         6.6|      6525|\n",
      "| 57201|     The Lone Ranger|[{\"cast_id\": 4, \"...|[{\"credit_id\": \"5...|255000000|[{\"id\": 28, \"name...|http://disney.go....|[{\"id\": 1556, \"na...|               en|     The Lone Ranger|The Texas Rangers...|         49.046956|[{\"name\": \"Walt D...|[{\"iso_3166_1\": \"...|  2013-07-03| 89289910|  149.0|[{\"iso_639_1\": \"e...|Released|Never Take Off th...|     The Lone Ranger|         5.9|      2311|\n",
      "| 70981|          Prometheus|[{\"cast_id\": 5, \"...|[{\"credit_id\": \"5...|130000000|[{\"id\": 878, \"nam...|http://www.projec...|[{\"id\": 803, \"nam...|               en|          Prometheus|A team of explore...|         68.889395|[{\"name\": \"Twenti...|[{\"iso_3166_1\": \"...|  2012-05-30|403170142|  124.0|[{\"iso_639_1\": \"g...|Released|The Search for Ou...|          Prometheus|         6.3|      5080|\n",
      "|187017|      22 Jump Street|[{\"cast_id\": 6, \"...|[{\"credit_id\": \"5...| 50000000|[{\"id\": 80, \"name...|http://www.22jump...|[{\"id\": 6270, \"na...|               en|      22 Jump Street|After making thei...|         52.380982|[{\"name\": \"Columb...|[{\"iso_3166_1\": \"...|  2014-06-05|188441614|  112.0|[{\"iso_639_1\": \"e...|Released|They're not 21 an...|      22 Jump Street|         7.0|      3319|\n",
      "|281957|        The Revenant|[{\"cast_id\": 1, \"...|[{\"credit_id\": \"5...|135000000|[{\"id\": 37, \"name...|http://www.foxmov...|[{\"id\": 494, \"nam...|               en|        The Revenant|In the 1820s, a f...|        100.635882|[{\"name\": \"Regenc...|[{\"iso_3166_1\": \"...|  2015-12-25|532950503|  156.0|[{\"iso_639_1\": \"e...|Released|(n. One who has r...|        The Revenant|         7.3|      6396|\n",
      "|   747|   Shaun of the Dead|[{\"cast_id\": 2, \"...|[{\"credit_id\": \"5...|  4000000|[{\"id\": 27, \"name...|                 nan|[{\"id\": 639, \"nam...|               en|   Shaun of the Dead|Shaun lives a sup...|          49.12486|[{\"name\": \"Univer...|[{\"iso_3166_1\": \"...|  2004-04-09| 30039392|   99.0|[{\"iso_639_1\": \"e...|Released|A romantic comedy...|   Shaun of the Dead|         7.5|      2420|\n",
      "| 75612|            Oblivion|[{\"cast_id\": 1, \"...|[{\"credit_id\": \"5...|120000000|[{\"id\": 28, \"name...|https://www.uphe....|[{\"id\": 1612, \"na...|               en|            Oblivion|Jack Harper is on...|         67.698004|[{\"name\": \"Univer...|[{\"iso_3166_1\": \"...|  2013-04-10|286168572|  124.0|[{\"iso_639_1\": \"e...|Released|Earth is a memory...|            Oblivion|         6.4|      4800|\n",
      "|   272|       Batman Begins|[{\"cast_id\": 13, ...|[{\"credit_id\": \"5...|150000000|[{\"id\": 28, \"name...|http://www2.warne...|[{\"id\": 486, \"nam...|               en|       Batman Begins|Driven by tragedy...|        115.040024|[{\"name\": \"DC Com...|[{\"iso_3166_1\": \"...|  2005-06-10|374218673|  140.0|[{\"iso_639_1\": \"e...|Released|Evil fears the kn...|       Batman Begins|         7.5|      7359|\n",
      "|  9654|     The Italian Job|[{\"cast_id\": 1, \"...|[{\"credit_id\": \"5...| 60000000|[{\"id\": 28, \"name...|http://www.italia...|[{\"id\": 110, \"nam...|               en|     The Italian Job|Charlie Croker pu...|         62.766854|[{\"name\": \"De Lin...|[{\"iso_3166_1\": \"...|  2003-05-30|176070171|  110.0|[{\"iso_639_1\": \"u...|Released|Get in. Get out. ...|     The Italian Job|         6.6|      1919|\n",
      "|  1487|             Hellboy|[{\"cast_id\": 1, \"...|[{\"credit_id\": \"5...| 66000000|[{\"id\": 14, \"name...|http://www.sonypi...|[{\"id\": 4252, \"na...|               en|             Hellboy|In the final days...|         47.479755|[{\"name\": \"Revolu...|[{\"iso_3166_1\": \"...|  2004-04-02| 99318987|  122.0|[{\"iso_639_1\": \"r...|Released|From the Dark Sid...|             Hellboy|         6.5|      2225|\n",
      "| 49013|              Cars 2|[{\"cast_id\": 4, \"...|[{\"credit_id\": \"5...|200000000|[{\"id\": 16, \"name...|http://www.disney...|[{\"id\": 830, \"nam...|               en|              Cars 2|Star race car Lig...|          49.98659|[{\"name\": \"Walt D...|[{\"iso_3166_1\": \"...|  2011-06-11|559852396|  106.0|[{\"iso_639_1\": \"e...|Released|            Ka-ciao!|              Cars 2|         5.8|      2033|\n",
      "+------+--------------------+--------------------+--------------------+---------+--------------------+--------------------+--------------------+-----------------+--------------------+--------------------+------------------+--------------------+--------------------+------------+---------+-------+--------------------+--------+--------------------+--------------------+------------+----------+\n",
      "only showing top 20 rows\n",
      "\n"
     ]
    }
   ],
   "source": [
    "#Filtering for values greater than the 90th percentile\n",
    "df_Merge_new = df_Merge.filter(df_Merge.vote_count>=1838.4000000000015)\n",
    "df_Merge_new.show()"
   ]
  },
  {
   "cell_type": "markdown",
   "metadata": {},
   "source": [
    "## IMDb formula to calculate the Weighted Ratings of movies "
   ]
  },
  {
   "cell_type": "code",
   "execution_count": 24,
   "metadata": {},
   "outputs": [],
   "source": [
    "def weighted_rating(V,R, M, C):\n",
    "\n",
    "    # Calculation based on the IMDB formula\n",
    "    return (V/(V+M) * R) + (M/(M+V) * C)"
   ]
  },
  {
   "cell_type": "code",
   "execution_count": 29,
   "metadata": {},
   "outputs": [
    {
     "name": "stdout",
     "output_type": "stream",
     "text": [
      "+------+--------------------+--------------------+--------------------+---------+--------------------+--------------------+--------------------+-----------------+--------------------+--------------------+------------------+--------------------+--------------------+------------+---------+-------+--------------------+--------+--------------------+--------------------+------------+----------+------------------+-----------------+\n",
      "|    id|         movie_title|                cast|                crew|   budget|              genres|            homepage|            keywords|original_language|      original_title|            overview|        popularity|production_companies|production_countries|release_date|  revenue|runtime|    spoken_languages|  status|             tagline|               title|vote_average|vote_count|                m1|               c1|\n",
      "+------+--------------------+--------------------+--------------------+---------+--------------------+--------------------+--------------------+-----------------+--------------------+--------------------+------------------+--------------------+--------------------+------------+---------+-------+--------------------+--------+--------------------+--------------------+------------+----------+------------------+-----------------+\n",
      "|  1572|Die Hard: With a ...|[{\"cast_id\": 8, \"...|[{\"credit_id\": \"5...| 90000000|[{\"id\": 28, \"name...|                 nan|[{\"id\": 258, \"nam...|               en|Die Hard: With a ...|New York detectiv...|51.881077000000005|[{\"name\": \"Twenti...|[{\"iso_3166_1\": \"...|  1995-05-19|366101666|  128.0|[{\"iso_639_1\": \"e...|Released|Think fast. Look ...|Die Hard: With a ...|         6.9|      2066|1838.4000000000015|6.092171559442015|\n",
      "|   296|Terminator 3: Ris...|[{\"cast_id\": 6, \"...|[{\"credit_id\": \"5...|200000000|[{\"id\": 28, \"name...|                 nan|[{\"id\": 83, \"name...|               en|Terminator 3: Ris...|It's been 10 year...|         69.405188|[{\"name\": \"Columb...|[{\"iso_3166_1\": \"...|  2003-07-02|435000000|  109.0|[{\"iso_639_1\": \"e...|Released|The Machines Will...|Terminator 3: Ris...|         5.9|      2143|1838.4000000000015|6.092171559442015|\n",
      "|   675|Harry Potter and ...|[{\"cast_id\": 22, ...|[{\"credit_id\": \"5...|150000000|[{\"id\": 12, \"name...|http://www.harryp...|[{\"id\": 530, \"nam...|               en|Harry Potter and ...|Returning for his...| 78.14439499999999|[{\"name\": \"Warner...|[{\"iso_3166_1\": \"...|  2007-06-28|938212738|  138.0|[{\"iso_639_1\": \"e...|Released|Evil Must Be Conf...|Harry Potter and ...|         7.4|      5494|1838.4000000000015|6.092171559442015|\n",
      "|100402|Captain America: ...|[{\"cast_id\": 1, \"...|[{\"credit_id\": \"5...|170000000|[{\"id\": 28, \"name...|http://www.captai...|[{\"id\": 521, \"nam...|               en|Captain America: ...|After the catacly...| 72.22526500000001|[{\"name\": \"Marvel...|[{\"iso_3166_1\": \"...|  2014-03-20|714766572|  136.0|[{\"iso_639_1\": \"e...|Released| In heroes we trust.|Captain America: ...|         7.6|      5764|1838.4000000000015|6.092171559442015|\n",
      "|  1372|       Blood Diamond|[{\"cast_id\": 27, ...|[{\"credit_id\": \"5...|100000000|[{\"id\": 18, \"name...|                 nan|[{\"id\": 526, \"nam...|               en|       Blood Diamond|An ex-mercenary t...|         52.792678|[{\"name\": \"Bedfor...|[{\"iso_3166_1\": \"...|  2006-12-07|170877916|  143.0|[{\"iso_639_1\": \"a...|Released|It will cost you ...|       Blood Diamond|         7.3|      2281|1838.4000000000015|6.092171559442015|\n",
      "|222935|The Fault in Our ...|[{\"cast_id\": 1, \"...|[{\"credit_id\": \"5...| 12000000|[{\"id\": 10749, \"n...|                 nan|[{\"id\": 587, \"nam...|               en|The Fault in Our ...|Despite the tumor...|         74.358971|[{\"name\": \"Fox 20...|[{\"iso_3166_1\": \"...|  2014-05-16|307166834|  125.0|[{\"iso_639_1\": \"e...|Released| One Sick Love Story|The Fault in Our ...|         7.6|      3759|1838.4000000000015|6.092171559442015|\n",
      "| 32657|Percy Jackson & t...|[{\"cast_id\": 1, \"...|[{\"credit_id\": \"5...| 95000000|[{\"id\": 12, \"name...|                 nan|[{\"id\": 1299, \"na...|               en|Percy Jackson & t...|Accident prone te...|61.121717000000004|[{\"name\": \"Ingeni...|[{\"iso_3166_1\": \"...|  2010-02-01|226497209|  118.0|[{\"iso_639_1\": \"e...|Released|      Worlds Collide|Percy Jackson & t...|         6.0|      2010|1838.4000000000015|6.092171559442015|\n",
      "| 47933|Independence Day:...|[{\"cast_id\": 5, \"...|[{\"credit_id\": \"5...|165000000|[{\"id\": 28, \"name...|http://www.warof1...|[{\"id\": 12026, \"n...|               en|Independence Day:...|We always knew th...|         48.775723|[{\"name\": \"Twenti...|[{\"iso_3166_1\": \"...|  2016-06-22|389681935|  120.0|[{\"iso_639_1\": \"e...|Released|We had twenty yea...|Independence Day:...|         4.9|      2491|1838.4000000000015|6.092171559442015|\n",
      "|   591|   The Da Vinci Code|[{\"cast_id\": 33, ...|[{\"credit_id\": \"5...|125000000|[{\"id\": 53, \"name...|http://www.sonypi...|[{\"id\": 90, \"name...|               en|   The Da Vinci Code|When the curator ...|45.313196999999995|[{\"name\": \"Columb...|[{\"iso_3166_1\": \"...|  2006-05-17|767820459|  149.0|[{\"iso_639_1\": \"e...|Released|     Seek the truth.|   The Da Vinci Code|         6.5|      2704|1838.4000000000015|6.092171559442015|\n",
      "| 10195|                Thor|[{\"cast_id\": 1, \"...|[{\"credit_id\": \"5...|150000000|[{\"id\": 12, \"name...|http://thor.marve...|[{\"id\": 1508, \"na...|               en|                Thor|Against his fathe...|         86.493424|[{\"name\": \"Marvel...|[{\"iso_3166_1\": \"...|  2011-04-21|449326618|  115.0|[{\"iso_639_1\": \"e...|Released|Two worlds. One h...|                Thor|         6.6|      6525|1838.4000000000015|6.092171559442015|\n",
      "| 57201|     The Lone Ranger|[{\"cast_id\": 4, \"...|[{\"credit_id\": \"5...|255000000|[{\"id\": 28, \"name...|http://disney.go....|[{\"id\": 1556, \"na...|               en|     The Lone Ranger|The Texas Rangers...|         49.046956|[{\"name\": \"Walt D...|[{\"iso_3166_1\": \"...|  2013-07-03| 89289910|  149.0|[{\"iso_639_1\": \"e...|Released|Never Take Off th...|     The Lone Ranger|         5.9|      2311|1838.4000000000015|6.092171559442015|\n",
      "| 70981|          Prometheus|[{\"cast_id\": 5, \"...|[{\"credit_id\": \"5...|130000000|[{\"id\": 878, \"nam...|http://www.projec...|[{\"id\": 803, \"nam...|               en|          Prometheus|A team of explore...|         68.889395|[{\"name\": \"Twenti...|[{\"iso_3166_1\": \"...|  2012-05-30|403170142|  124.0|[{\"iso_639_1\": \"g...|Released|The Search for Ou...|          Prometheus|         6.3|      5080|1838.4000000000015|6.092171559442015|\n",
      "|187017|      22 Jump Street|[{\"cast_id\": 6, \"...|[{\"credit_id\": \"5...| 50000000|[{\"id\": 80, \"name...|http://www.22jump...|[{\"id\": 6270, \"na...|               en|      22 Jump Street|After making thei...|         52.380982|[{\"name\": \"Columb...|[{\"iso_3166_1\": \"...|  2014-06-05|188441614|  112.0|[{\"iso_639_1\": \"e...|Released|They're not 21 an...|      22 Jump Street|         7.0|      3319|1838.4000000000015|6.092171559442015|\n",
      "|281957|        The Revenant|[{\"cast_id\": 1, \"...|[{\"credit_id\": \"5...|135000000|[{\"id\": 37, \"name...|http://www.foxmov...|[{\"id\": 494, \"nam...|               en|        The Revenant|In the 1820s, a f...|        100.635882|[{\"name\": \"Regenc...|[{\"iso_3166_1\": \"...|  2015-12-25|532950503|  156.0|[{\"iso_639_1\": \"e...|Released|(n. One who has r...|        The Revenant|         7.3|      6396|1838.4000000000015|6.092171559442015|\n",
      "|   747|   Shaun of the Dead|[{\"cast_id\": 2, \"...|[{\"credit_id\": \"5...|  4000000|[{\"id\": 27, \"name...|                 nan|[{\"id\": 639, \"nam...|               en|   Shaun of the Dead|Shaun lives a sup...|          49.12486|[{\"name\": \"Univer...|[{\"iso_3166_1\": \"...|  2004-04-09| 30039392|   99.0|[{\"iso_639_1\": \"e...|Released|A romantic comedy...|   Shaun of the Dead|         7.5|      2420|1838.4000000000015|6.092171559442015|\n",
      "| 75612|            Oblivion|[{\"cast_id\": 1, \"...|[{\"credit_id\": \"5...|120000000|[{\"id\": 28, \"name...|https://www.uphe....|[{\"id\": 1612, \"na...|               en|            Oblivion|Jack Harper is on...|         67.698004|[{\"name\": \"Univer...|[{\"iso_3166_1\": \"...|  2013-04-10|286168572|  124.0|[{\"iso_639_1\": \"e...|Released|Earth is a memory...|            Oblivion|         6.4|      4800|1838.4000000000015|6.092171559442015|\n",
      "|   272|       Batman Begins|[{\"cast_id\": 13, ...|[{\"credit_id\": \"5...|150000000|[{\"id\": 28, \"name...|http://www2.warne...|[{\"id\": 486, \"nam...|               en|       Batman Begins|Driven by tragedy...|        115.040024|[{\"name\": \"DC Com...|[{\"iso_3166_1\": \"...|  2005-06-10|374218673|  140.0|[{\"iso_639_1\": \"e...|Released|Evil fears the kn...|       Batman Begins|         7.5|      7359|1838.4000000000015|6.092171559442015|\n",
      "|  9654|     The Italian Job|[{\"cast_id\": 1, \"...|[{\"credit_id\": \"5...| 60000000|[{\"id\": 28, \"name...|http://www.italia...|[{\"id\": 110, \"nam...|               en|     The Italian Job|Charlie Croker pu...|         62.766854|[{\"name\": \"De Lin...|[{\"iso_3166_1\": \"...|  2003-05-30|176070171|  110.0|[{\"iso_639_1\": \"u...|Released|Get in. Get out. ...|     The Italian Job|         6.6|      1919|1838.4000000000015|6.092171559442015|\n",
      "|  1487|             Hellboy|[{\"cast_id\": 1, \"...|[{\"credit_id\": \"5...| 66000000|[{\"id\": 14, \"name...|http://www.sonypi...|[{\"id\": 4252, \"na...|               en|             Hellboy|In the final days...|         47.479755|[{\"name\": \"Revolu...|[{\"iso_3166_1\": \"...|  2004-04-02| 99318987|  122.0|[{\"iso_639_1\": \"r...|Released|From the Dark Sid...|             Hellboy|         6.5|      2225|1838.4000000000015|6.092171559442015|\n",
      "| 49013|              Cars 2|[{\"cast_id\": 4, \"...|[{\"credit_id\": \"5...|200000000|[{\"id\": 16, \"name...|http://www.disney...|[{\"id\": 830, \"nam...|               en|              Cars 2|Star race car Lig...|          49.98659|[{\"name\": \"Walt D...|[{\"iso_3166_1\": \"...|  2011-06-11|559852396|  106.0|[{\"iso_639_1\": \"e...|Released|            Ka-ciao!|              Cars 2|         5.8|      2033|1838.4000000000015|6.092171559442015|\n",
      "+------+--------------------+--------------------+--------------------+---------+--------------------+--------------------+--------------------+-----------------+--------------------+--------------------+------------------+--------------------+--------------------+------------+---------+-------+--------------------+--------+--------------------+--------------------+------------+----------+------------------+-----------------+\n",
      "only showing top 20 rows\n",
      "\n"
     ]
    }
   ],
   "source": [
    "df_Merge_new_1=df_Merge_new.withColumn(\"m1\",lit(m1))\n",
    "df_Merge_new_2=df_Merge_new_1.withColumn(\"c1\",lit(c))\n",
    "\n",
    "df_Merge_new_2.show()"
   ]
  },
  {
   "cell_type": "markdown",
   "metadata": {},
   "source": [
    "## Applying the formula and calculating the score for every movie in the dataset "
   ]
  },
  {
   "cell_type": "code",
   "execution_count": 30,
   "metadata": {},
   "outputs": [
    {
     "name": "stdout",
     "output_type": "stream",
     "text": [
      "+------+--------------------+--------------------+--------------------+---------+--------------------+--------------------+--------------------+-----------------+--------------------+--------------------+------------------+--------------------+--------------------+------------+---------+-------+--------------------+--------+--------------------+--------------------+------------+----------+------------------+-----------------+------------------+\n",
      "|    id|         movie_title|                cast|                crew|   budget|              genres|            homepage|            keywords|original_language|      original_title|            overview|        popularity|production_companies|production_countries|release_date|  revenue|runtime|    spoken_languages|  status|             tagline|               title|vote_average|vote_count|                m1|               c1|             score|\n",
      "+------+--------------------+--------------------+--------------------+---------+--------------------+--------------------+--------------------+-----------------+--------------------+--------------------+------------------+--------------------+--------------------+------------+---------+-------+--------------------+--------+--------------------+--------------------+------------+----------+------------------+-----------------+------------------+\n",
      "|  1572|Die Hard: With a ...|[{\"cast_id\": 8, \"...|[{\"credit_id\": \"5...| 90000000|[{\"id\": 28, \"name...|                 nan|[{\"id\": 258, \"nam...|               en|Die Hard: With a ...|New York detectiv...|51.881077000000005|[{\"name\": \"Twenti...|[{\"iso_3166_1\": \"...|  1995-05-19|366101666|  128.0|[{\"iso_639_1\": \"e...|Released|Think fast. Look ...|Die Hard: With a ...|         6.9|      2066|1838.4000000000015|6.092171559442015|  6.51963123524183|\n",
      "|   296|Terminator 3: Ris...|[{\"cast_id\": 6, \"...|[{\"credit_id\": \"5...|200000000|[{\"id\": 28, \"name...|                 nan|[{\"id\": 83, \"name...|               en|Terminator 3: Ris...|It's been 10 year...|         69.405188|[{\"name\": \"Columb...|[{\"iso_3166_1\": \"...|  2003-07-02|435000000|  109.0|[{\"iso_639_1\": \"e...|Released|The Machines Will...|Terminator 3: Ris...|         5.9|      2143|1838.4000000000015|6.092171559442015| 5.988734664911388|\n",
      "|   675|Harry Potter and ...|[{\"cast_id\": 22, ...|[{\"credit_id\": \"5...|150000000|[{\"id\": 12, \"name...|http://www.harryp...|[{\"id\": 530, \"nam...|               en|Harry Potter and ...|Returning for his...| 78.14439499999999|[{\"name\": \"Warner...|[{\"iso_3166_1\": \"...|  2007-06-28|938212738|  138.0|[{\"iso_639_1\": \"e...|Released|Evil Must Be Conf...|Harry Potter and ...|         7.4|      5494|1838.4000000000015|6.092171559442015| 7.072097566264552|\n",
      "|100402|Captain America: ...|[{\"cast_id\": 1, \"...|[{\"credit_id\": \"5...|170000000|[{\"id\": 28, \"name...|http://www.captai...|[{\"id\": 521, \"nam...|               en|Captain America: ...|After the catacly...| 72.22526500000001|[{\"name\": \"Marvel...|[{\"iso_3166_1\": \"...|  2014-03-20|714766572|  136.0|[{\"iso_639_1\": \"e...|Released| In heroes we trust.|Captain America: ...|         7.6|      5764|1838.4000000000015|6.092171559442015| 7.235379379522019|\n",
      "|  1372|       Blood Diamond|[{\"cast_id\": 27, ...|[{\"credit_id\": \"5...|100000000|[{\"id\": 18, \"name...|                 nan|[{\"id\": 526, \"nam...|               en|       Blood Diamond|An ex-mercenary t...|         52.792678|[{\"name\": \"Bedfor...|[{\"iso_3166_1\": \"...|  2006-12-07|170877916|  143.0|[{\"iso_639_1\": \"a...|Released|It will cost you ...|       Blood Diamond|         7.3|      2281|1838.4000000000015|6.092171559442015| 6.760972033519007|\n",
      "|222935|The Fault in Our ...|[{\"cast_id\": 1, \"...|[{\"credit_id\": \"5...| 12000000|[{\"id\": 10749, \"n...|                 nan|[{\"id\": 587, \"nam...|               en|The Fault in Our ...|Despite the tumor...|         74.358971|[{\"name\": \"Fox 20...|[{\"iso_3166_1\": \"...|  2014-05-16|307166834|  125.0|[{\"iso_639_1\": \"e...|Released| One Sick Love Story|The Fault in Our ...|         7.6|      3759|1838.4000000000015|6.092171559442015| 7.104771535869903|\n",
      "| 32657|Percy Jackson & t...|[{\"cast_id\": 1, \"...|[{\"credit_id\": \"5...| 95000000|[{\"id\": 12, \"name...|                 nan|[{\"id\": 1299, \"na...|               en|Percy Jackson & t...|Accident prone te...|61.121717000000004|[{\"name\": \"Ingeni...|[{\"iso_3166_1\": \"...|  2010-02-01|226497209|  118.0|[{\"iso_639_1\": \"e...|Released|      Worlds Collide|Percy Jackson & t...|         6.0|      2010|1838.4000000000015|6.092171559442015| 6.044030816671396|\n",
      "| 47933|Independence Day:...|[{\"cast_id\": 5, \"...|[{\"credit_id\": \"5...|165000000|[{\"id\": 28, \"name...|http://www.warof1...|[{\"id\": 12026, \"n...|               en|Independence Day:...|We always knew th...|         48.775723|[{\"name\": \"Twenti...|[{\"iso_3166_1\": \"...|  2016-06-22|389681935|  120.0|[{\"iso_639_1\": \"e...|Released|We had twenty yea...|Independence Day:...|         4.9|      2491|1838.4000000000015|6.092171559442015| 5.406233703256387|\n",
      "|   591|   The Da Vinci Code|[{\"cast_id\": 33, ...|[{\"credit_id\": \"5...|125000000|[{\"id\": 53, \"name...|http://www.sonypi...|[{\"id\": 90, \"name...|               en|   The Da Vinci Code|When the curator ...|45.313196999999995|[{\"name\": \"Columb...|[{\"iso_3166_1\": \"...|  2006-05-17|767820459|  149.0|[{\"iso_639_1\": \"e...|Released|     Seek the truth.|   The Da Vinci Code|         6.5|      2704|1838.4000000000015|6.092171559442015| 6.334943685029544|\n",
      "| 10195|                Thor|[{\"cast_id\": 1, \"...|[{\"credit_id\": \"5...|150000000|[{\"id\": 12, \"name...|http://thor.marve...|[{\"id\": 1508, \"na...|               en|                Thor|Against his fathe...|         86.493424|[{\"name\": \"Marvel...|[{\"iso_3166_1\": \"...|  2011-04-21|449326618|  115.0|[{\"iso_639_1\": \"e...|Released|Two worlds. One h...|                Thor|         6.6|      6525|1838.4000000000015|6.092171559442015|6.4883717381541235|\n",
      "| 57201|     The Lone Ranger|[{\"cast_id\": 4, \"...|[{\"credit_id\": \"5...|255000000|[{\"id\": 28, \"name...|http://disney.go....|[{\"id\": 1556, \"na...|               en|     The Lone Ranger|The Texas Rangers...|         49.046956|[{\"name\": \"Walt D...|[{\"iso_3166_1\": \"...|  2013-07-03| 89289910|  149.0|[{\"iso_639_1\": \"e...|Released|Never Take Off th...|     The Lone Ranger|         5.9|      2311|1838.4000000000015|6.092171559442015| 5.985141995198872|\n",
      "| 70981|          Prometheus|[{\"cast_id\": 5, \"...|[{\"credit_id\": \"5...|130000000|[{\"id\": 878, \"nam...|http://www.projec...|[{\"id\": 803, \"nam...|               en|          Prometheus|A team of explore...|         68.889395|[{\"name\": \"Twenti...|[{\"iso_3166_1\": \"...|  2012-05-30|403170142|  124.0|[{\"iso_639_1\": \"g...|Released|The Search for Ou...|          Prometheus|         6.3|      5080|1838.4000000000015|6.092171559442015| 6.244774542506677|\n",
      "|187017|      22 Jump Street|[{\"cast_id\": 6, \"...|[{\"credit_id\": \"5...| 50000000|[{\"id\": 80, \"name...|http://www.22jump...|[{\"id\": 6270, \"na...|               en|      22 Jump Street|After making thei...|         52.380982|[{\"name\": \"Columb...|[{\"iso_3166_1\": \"...|  2014-06-05|188441614|  112.0|[{\"iso_639_1\": \"e...|Released|They're not 21 an...|      22 Jump Street|         7.0|      3319|1838.4000000000015|6.092171559442015| 6.676396671748982|\n",
      "|281957|        The Revenant|[{\"cast_id\": 1, \"...|[{\"credit_id\": \"5...|135000000|[{\"id\": 37, \"name...|http://www.foxmov...|[{\"id\": 494, \"nam...|               en|        The Revenant|In the 1820s, a f...|        100.635882|[{\"name\": \"Regenc...|[{\"iso_3166_1\": \"...|  2015-12-25|532950503|  156.0|[{\"iso_639_1\": \"e...|Released|(n. One who has r...|        The Revenant|         7.3|      6396|1838.4000000000015|6.092171559442015| 7.030342003652748|\n",
      "|   747|   Shaun of the Dead|[{\"cast_id\": 2, \"...|[{\"credit_id\": \"5...|  4000000|[{\"id\": 27, \"name...|                 nan|[{\"id\": 639, \"nam...|               en|   Shaun of the Dead|Shaun lives a sup...|          49.12486|[{\"name\": \"Univer...|[{\"iso_3166_1\": \"...|  2004-04-09| 30039392|   99.0|[{\"iso_639_1\": \"e...|Released|A romantic comedy...|   Shaun of the Dead|         7.5|      2420|1838.4000000000015|6.092171559442015| 6.892224355363094|\n",
      "| 75612|            Oblivion|[{\"cast_id\": 1, \"...|[{\"credit_id\": \"5...|120000000|[{\"id\": 28, \"name...|https://www.uphe....|[{\"id\": 1612, \"na...|               en|            Oblivion|Jack Harper is on...|         67.698004|[{\"name\": \"Univer...|[{\"iso_3166_1\": \"...|  2013-04-10|286168572|  124.0|[{\"iso_639_1\": \"e...|Released|Earth is a memory...|            Oblivion|         6.4|      4800|1838.4000000000015|6.092171559442015| 6.314751776765215|\n",
      "|   272|       Batman Begins|[{\"cast_id\": 13, ...|[{\"credit_id\": \"5...|150000000|[{\"id\": 28, \"name...|http://www2.warne...|[{\"id\": 486, \"nam...|               en|       Batman Begins|Driven by tragedy...|        115.040024|[{\"name\": \"DC Com...|[{\"iso_3166_1\": \"...|  2005-06-10|374218673|  140.0|[{\"iso_639_1\": \"e...|Released|Evil fears the kn...|       Batman Begins|         7.5|      7359|1838.4000000000015|6.092171559442015|  7.21859962542438|\n",
      "|  9654|     The Italian Job|[{\"cast_id\": 1, \"...|[{\"credit_id\": \"5...| 60000000|[{\"id\": 28, \"name...|http://www.italia...|[{\"id\": 110, \"nam...|               en|     The Italian Job|Charlie Croker pu...|         62.766854|[{\"name\": \"De Lin...|[{\"iso_3166_1\": \"...|  2003-05-30|176070171|  110.0|[{\"iso_639_1\": \"u...|Released|Get in. Get out. ...|     The Italian Job|         6.6|      1919|1838.4000000000015|6.092171559442015| 6.351532494511684|\n",
      "|  1487|             Hellboy|[{\"cast_id\": 1, \"...|[{\"credit_id\": \"5...| 66000000|[{\"id\": 14, \"name...|http://www.sonypi...|[{\"id\": 4252, \"na...|               en|             Hellboy|In the final days...|         47.479755|[{\"name\": \"Revolu...|[{\"iso_3166_1\": \"...|  2004-04-02| 99318987|  122.0|[{\"iso_639_1\": \"r...|Released|From the Dark Sid...|             Hellboy|         6.5|      2225|1838.4000000000015|6.092171559442015| 6.315486586326278|\n",
      "| 49013|              Cars 2|[{\"cast_id\": 4, \"...|[{\"credit_id\": \"5...|200000000|[{\"id\": 16, \"name...|http://www.disney...|[{\"id\": 830, \"nam...|               en|              Cars 2|Star race car Lig...|          49.98659|[{\"name\": \"Walt D...|[{\"iso_3166_1\": \"...|  2011-06-11|559852396|  106.0|[{\"iso_639_1\": \"e...|Released|            Ka-ciao!|              Cars 2|         5.8|      2033|1838.4000000000015|6.092171559442015|5.9387426240838455|\n",
      "+------+--------------------+--------------------+--------------------+---------+--------------------+--------------------+--------------------+-----------------+--------------------+--------------------+------------------+--------------------+--------------------+------------+---------+-------+--------------------+--------+--------------------+--------------------+------------+----------+------------------+-----------------+------------------+\n",
      "only showing top 20 rows\n",
      "\n"
     ]
    }
   ],
   "source": [
    "DF_S=df_Merge_new_2.select(\"*\",weighted_rating(col(\"vote_count\"),col(\"vote_average\"),col(\"m1\"),col(\"c1\")).alias(\"score\"))\n",
    "DF_S.show()"
   ]
  },
  {
   "cell_type": "code",
   "execution_count": 31,
   "metadata": {},
   "outputs": [
    {
     "name": "stdout",
     "output_type": "stream",
     "text": [
      "+------+--------------------+--------------------+--------------------+---------+--------------------+--------------------+--------------------+-----------------+--------------------+--------------------+------------------+--------------------+--------------------+------------+----------+-------+--------------------+--------+--------------------+--------------------+------------+----------+------------------+-----------------+------------------+\n",
      "|    id|         movie_title|                cast|                crew|   budget|              genres|            homepage|            keywords|original_language|      original_title|            overview|        popularity|production_companies|production_countries|release_date|   revenue|runtime|    spoken_languages|  status|             tagline|               title|vote_average|vote_count|                m1|               c1|             score|\n",
      "+------+--------------------+--------------------+--------------------+---------+--------------------+--------------------+--------------------+-----------------+--------------------+--------------------+------------------+--------------------+--------------------+------------+----------+-------+--------------------+--------+--------------------+--------------------+------------+----------+------------------+-----------------+------------------+\n",
      "|   278|The Shawshank Red...|[{\"cast_id\": 3, \"...|[{\"credit_id\": \"5...| 25000000|[{\"id\": 18, \"name...|                 nan|[{\"id\": 378, \"nam...|               en|The Shawshank Red...|Framed in the 194...|        136.747729|[{\"name\": \"Castle...|[{\"iso_3166_1\": \"...|  1994-09-23|  28341469|  142.0|[{\"iso_639_1\": \"e...|Released|Fear can hold you...|The Shawshank Red...|         8.5|      8205|1838.4000000000015|6.092171559442015| 8.059257641324471|\n",
      "|   550|          Fight Club|[{\"cast_id\": 4, \"...|[{\"credit_id\": \"5...| 63000000|[{\"id\": 18, \"name...|http://www.foxmov...|[{\"id\": 825, \"nam...|               en|          Fight Club|A ticking-time-bo...|146.75739099999998|[{\"name\": \"Regenc...|[{\"iso_3166_1\": \"...|  1999-10-15| 100853753|  139.0|[{\"iso_639_1\": \"e...|Released|Mischief. Mayhem....|          Fight Club|         8.3|      9413|1838.4000000000015|6.092171559442015| 7.939256287651155|\n",
      "|   155|     The Dark Knight|[{\"cast_id\": 35, ...|[{\"credit_id\": \"5...|185000000|[{\"id\": 18, \"name...|http://thedarkkni...|[{\"id\": 849, \"nam...|               en|     The Dark Knight|Batman raises the...|        187.322927|[{\"name\": \"DC Com...|[{\"iso_3166_1\": \"...|  2008-07-16|1004558444|  152.0|[{\"iso_639_1\": \"e...|Released|     Why So Serious?|     The Dark Knight|         8.2|     12002|1838.4000000000015|6.092171559442015| 7.920020244709559|\n",
      "|   680|        Pulp Fiction|[{\"cast_id\": 2, \"...|[{\"credit_id\": \"5...|  8000000|[{\"id\": 53, \"name...|                 nan|[{\"id\": 396, \"nam...|               en|        Pulp Fiction|A burger-loving h...|        121.463076|[{\"name\": \"Mirama...|[{\"iso_3166_1\": \"...|  1994-10-08| 213928762|  154.0|[{\"iso_639_1\": \"e...|Released|Just because you ...|        Pulp Fiction|         8.3|      8428|1838.4000000000015|6.092171559442015|  7.90464507469787|\n",
      "| 27205|           Inception|[{\"cast_id\": 1, \"...|[{\"credit_id\": \"5...|160000000|[{\"id\": 28, \"name...|http://inceptionm...|[{\"id\": 1014, \"na...|               en|           Inception|Cobb, a skilled t...|         167.58371|[{\"name\": \"Legend...|[{\"iso_3166_1\": \"...|  2010-07-14| 825532764|  148.0|[{\"iso_639_1\": \"e...|Released|Your mind is the ...|           Inception|         8.1|     13752|1838.4000000000015|6.092171559442015| 7.863239441892331|\n",
      "|   238|       The Godfather|[{\"cast_id\": 5, \"...|[{\"credit_id\": \"5...|  6000000|[{\"id\": 18, \"name...|http://www.thegod...|[{\"id\": 131, \"nam...|               en|       The Godfather|Spanning the year...|        143.659698|[{\"name\": \"Paramo...|[{\"iso_3166_1\": \"...|  1972-03-14| 245066411|  175.0|[{\"iso_639_1\": \"e...|Released|An offer you can'...|       The Godfather|         8.4|      5893|1838.4000000000015|6.092171559442015| 7.851236282546266|\n",
      "|157336|        Interstellar|[{\"cast_id\": 9, \"...|[{\"credit_id\": \"5...|165000000|[{\"id\": 12, \"name...|http://www.inters...|[{\"id\": 83, \"name...|               en|        Interstellar|Interstellar chro...|        724.247784|[{\"name\": \"Paramo...|[{\"iso_3166_1\": \"...|  2014-11-05| 675120017|  169.0|[{\"iso_639_1\": \"e...|Released|Mankind was born ...|        Interstellar|         8.1|     10867|1838.4000000000015|6.092171559442015| 7.809478504799392|\n",
      "|    13|        Forrest Gump|[{\"cast_id\": 7, \"...|[{\"credit_id\": \"5...| 55000000|[{\"id\": 35, \"name...|                 nan|[{\"id\": 422, \"nam...|               en|        Forrest Gump|A man with a low ...|        138.133331|[{\"name\": \"Paramo...|[{\"iso_3166_1\": \"...|  1994-07-06| 677945399|  142.0|[{\"iso_639_1\": \"e...|Released|The world will ne...|        Forrest Gump|         8.2|      7927|1838.4000000000015|6.092171559442015| 7.803187600597845|\n",
      "|   122|The Lord of the R...|[{\"cast_id\": 12, ...|[{\"credit_id\": \"5...| 94000000|[{\"id\": 12, \"name...|http://www.lordof...|[{\"id\": 603, \"nam...|               en|The Lord of the R...|Aragorn is reveal...|123.63033200000001|[{\"name\": \"WingNu...|[{\"iso_3166_1\": \"...|  2003-12-01|1118888979|  201.0|[{\"iso_639_1\": \"e...|Released|The eye of the en...|The Lord of the R...|         8.1|      8064|1838.4000000000015|6.092171559442015| 7.727242708321032|\n",
      "|  1891|The Empire Strike...|[{\"cast_id\": 7, \"...|[{\"credit_id\": \"5...| 18000000|[{\"id\": 12, \"name...|http://www.starwa...|[{\"id\": 526, \"nam...|               en|The Empire Strike...|The epic saga con...|          78.51783|[{\"name\": \"Lucasf...|[{\"iso_3166_1\": \"...|  1980-05-17| 538400000|  124.0|[{\"iso_639_1\": \"e...|Released|The Adventure Con...|The Empire Strike...|         8.2|      5879|1838.4000000000015|6.092171559442015| 7.697883768481379|\n",
      "|   120|The Lord of the R...|[{\"cast_id\": 28, ...|[{\"credit_id\": \"5...| 93000000|[{\"id\": 12, \"name...|http://www.lordof...|[{\"id\": 603, \"nam...|               en|The Lord of the R...|Young hobbit Frod...|        138.049577|[{\"name\": \"WingNu...|[{\"iso_3166_1\": \"...|  2001-12-18| 871368364|  178.0|[{\"iso_639_1\": \"e...|Released|One ring to rule ...|The Lord of the R...|         8.0|      8705|1838.4000000000015|6.092171559442015| 7.667341483286055|\n",
      "|    11|           Star Wars|[{\"cast_id\": 3, \"...|[{\"credit_id\": \"5...| 11000000|[{\"id\": 12, \"name...|http://www.starwa...|[{\"id\": 803, \"nam...|               en|           Star Wars|Princess Leia is ...|        126.393695|[{\"name\": \"Lucasf...|[{\"iso_3166_1\": \"...|  1977-05-25| 775398007|  121.0|[{\"iso_639_1\": \"e...|Released|A long time ago i...|           Star Wars|         8.1|      6624|1838.4000000000015|6.092171559442015|  7.66381265301548|\n",
      "|   424|    Schindler's List|[{\"cast_id\": 14, ...|[{\"credit_id\": \"5...| 22000000|[{\"id\": 18, \"name...|http://www.schind...|[{\"id\": 1382, \"na...|               en|    Schindler's List|The true story of...|        104.469351|[{\"name\": \"Univer...|[{\"iso_3166_1\": \"...|  1993-11-29| 321365567|  195.0|[{\"iso_639_1\": \"d...|Released|Whoever saves one...|    Schindler's List|         8.3|      4329|1838.4000000000015|6.092171559442015| 7.641882834724227|\n",
      "|244786|            Whiplash|[{\"cast_id\": 5, \"...|[{\"credit_id\": \"5...|  3300000|[{\"id\": 18, \"name...|http://sonyclassi...|[{\"id\": 1416, \"na...|               en|            Whiplash|Under the directi...|        192.528841|[{\"name\": \"Bold F...|[{\"iso_3166_1\": \"...|  2014-10-10|  13092000|  105.0|[{\"iso_639_1\": \"e...|Released|The road to great...|            Whiplash|         8.3|      4254|1838.4000000000015|6.092171559442015| 7.633781136313801|\n",
      "|   121|The Lord of the R...|[{\"cast_id\": 13, ...|[{\"credit_id\": \"5...| 79000000|[{\"id\": 12, \"name...|http://www.lordof...|[{\"id\": 603, \"nam...|               en|The Lord of the R...|Frodo and Sam are...|        106.914973|[{\"name\": \"WingNu...|[{\"iso_3166_1\": \"...|  2002-12-18| 926287400|  179.0|[{\"iso_639_1\": \"e...|Released|A New Power Is Ri...|The Lord of the R...|         8.0|      7487|1838.4000000000015|6.092171559442015|7.6238926153171125|\n",
      "|   807|               Se7en|[{\"cast_id\": 17, ...|[{\"credit_id\": \"5...| 33000000|[{\"id\": 80, \"name...|http://www.sevenm...|[{\"id\": 476, \"nam...|               en|               Se7en|Two homicide dete...|         79.579532|[{\"name\": \"New Li...|[{\"iso_3166_1\": \"...|  1995-09-22| 327311859|  127.0|[{\"iso_639_1\": \"e...|Released|Seven deadly sins...|               Se7en|         8.1|      5765|1838.4000000000015|6.092171559442015| 7.614534049882709|\n",
      "|118340|Guardians of the ...|[{\"cast_id\": 1, \"...|[{\"credit_id\": \"5...|170000000|[{\"id\": 28, \"name...|http://marvel.com...|[{\"id\": 8828, \"na...|               en|Guardians of the ...|Light years from ...|481.09862400000003|[{\"name\": \"Marvel...|[{\"iso_3166_1\": \"...|  2014-07-30| 773328629|  121.0|[{\"iso_639_1\": \"e...|Released|All heroes start ...|Guardians of the ...|         7.9|      9742|1838.4000000000015|6.092171559442015| 7.613005439784308|\n",
      "|   603|          The Matrix|[{\"cast_id\": 34, ...|[{\"credit_id\": \"5...| 63000000|[{\"id\": 28, \"name...|http://www.warner...|[{\"id\": 83, \"name...|               en|          The Matrix|Set in the 22nd c...|        104.309993|[{\"name\": \"Villag...|[{\"iso_3166_1\": \"...|  1999-03-30| 463517383|  136.0|[{\"iso_639_1\": \"e...|Released|Welcome to the Re...|          The Matrix|         7.9|      8907|1838.4000000000015|6.092171559442015| 7.590703761132969|\n",
      "|   129|       Spirited Away|[{\"cast_id\": 3, \"...|[{\"credit_id\": \"5...| 15000000|[{\"id\": 14, \"name...|http://movies.dis...|[{\"id\": 616, \"nam...|               ja|    千と千尋の神隠し|A ten year old gi...|        118.968562|[{\"name\": \"Studio...|[{\"iso_3166_1\": \"...|  2001-07-20| 274925095|  125.0|[{\"iso_639_1\": \"j...|Released|The tunnel led Ch...|       Spirited Away|         8.3|      3840|1838.4000000000015|6.092171559442015|7.5852085437584895|\n",
      "|150540|          Inside Out|[{\"cast_id\": 4, \"...|[{\"credit_id\": \"5...|175000000|[{\"id\": 18, \"name...|http://movies.dis...|[{\"id\": 1566, \"na...|               en|          Inside Out|Growing up can be...|128.65596399999998|[{\"name\": \"Walt D...|[{\"iso_3166_1\": \"...|  2015-06-09| 857611174|   94.0|[{\"iso_639_1\": \"e...|Released|Meet the little v...|          Inside Out|         8.0|      6560|1838.4000000000015|6.092171559442015|7.5823785714991185|\n",
      "+------+--------------------+--------------------+--------------------+---------+--------------------+--------------------+--------------------+-----------------+--------------------+--------------------+------------------+--------------------+--------------------+------------+----------+-------+--------------------+--------+--------------------+--------------------+------------+----------+------------------+-----------------+------------------+\n",
      "only showing top 20 rows\n",
      "\n"
     ]
    }
   ],
   "source": [
    "DF_S_1=DF_S.sort(\"score\",ascending=False).show()"
   ]
  },
  {
   "cell_type": "code",
   "execution_count": 32,
   "metadata": {},
   "outputs": [
    {
     "name": "stdout",
     "output_type": "stream",
     "text": [
      "+--------------------+------------+----------+------------------+\n",
      "|               title|vote_average|vote_count|             score|\n",
      "+--------------------+------------+----------+------------------+\n",
      "|Die Hard: With a ...|         6.9|      2066|  6.51963123524183|\n",
      "|Terminator 3: Ris...|         5.9|      2143| 5.988734664911388|\n",
      "|Harry Potter and ...|         7.4|      5494| 7.072097566264552|\n",
      "|Captain America: ...|         7.6|      5764| 7.235379379522019|\n",
      "|       Blood Diamond|         7.3|      2281| 6.760972033519007|\n",
      "|The Fault in Our ...|         7.6|      3759| 7.104771535869903|\n",
      "|Percy Jackson & t...|         6.0|      2010| 6.044030816671396|\n",
      "|Independence Day:...|         4.9|      2491| 5.406233703256387|\n",
      "|   The Da Vinci Code|         6.5|      2704| 6.334943685029544|\n",
      "|                Thor|         6.6|      6525|6.4883717381541235|\n",
      "|     The Lone Ranger|         5.9|      2311| 5.985141995198872|\n",
      "|          Prometheus|         6.3|      5080| 6.244774542506677|\n",
      "|      22 Jump Street|         7.0|      3319| 6.676396671748982|\n",
      "|        The Revenant|         7.3|      6396| 7.030342003652748|\n",
      "|   Shaun of the Dead|         7.5|      2420| 6.892224355363094|\n",
      "|            Oblivion|         6.4|      4800| 6.314751776765215|\n",
      "|       Batman Begins|         7.5|      7359|  7.21859962542438|\n",
      "|     The Italian Job|         6.6|      1919| 6.351532494511684|\n",
      "|             Hellboy|         6.5|      2225| 6.315486586326278|\n",
      "|              Cars 2|         5.8|      2033|5.9387426240838455|\n",
      "+--------------------+------------+----------+------------------+\n",
      "only showing top 20 rows\n",
      "\n"
     ]
    }
   ],
   "source": [
    "DF_Final=DF_S.select(col('title'),col('vote_average'),col('vote_count'),col('score'))\n",
    "DF_Final.show()"
   ]
  },
  {
   "cell_type": "code",
   "execution_count": 33,
   "metadata": {},
   "outputs": [
    {
     "name": "stdout",
     "output_type": "stream",
     "text": [
      "+--------------------+------------+----------+------------------+\n",
      "|               title|vote_average|vote_count|             score|\n",
      "+--------------------+------------+----------+------------------+\n",
      "|The Shawshank Red...|         8.5|      8205| 8.059257641324471|\n",
      "|          Fight Club|         8.3|      9413| 7.939256287651155|\n",
      "|     The Dark Knight|         8.2|     12002| 7.920020244709559|\n",
      "|        Pulp Fiction|         8.3|      8428|  7.90464507469787|\n",
      "|           Inception|         8.1|     13752| 7.863239441892331|\n",
      "|       The Godfather|         8.4|      5893| 7.851236282546266|\n",
      "|        Interstellar|         8.1|     10867| 7.809478504799392|\n",
      "|        Forrest Gump|         8.2|      7927| 7.803187600597845|\n",
      "|The Lord of the R...|         8.1|      8064| 7.727242708321032|\n",
      "|The Empire Strike...|         8.2|      5879| 7.697883768481379|\n",
      "|The Lord of the R...|         8.0|      8705| 7.667341483286055|\n",
      "|           Star Wars|         8.1|      6624|  7.66381265301548|\n",
      "|    Schindler's List|         8.3|      4329| 7.641882834724227|\n",
      "|            Whiplash|         8.3|      4254| 7.633781136313801|\n",
      "|The Lord of the R...|         8.0|      7487|7.6238926153171125|\n",
      "|               Se7en|         8.1|      5765| 7.614534049882709|\n",
      "|Guardians of the ...|         7.9|      9742| 7.613005439784308|\n",
      "|          The Matrix|         7.9|      8907| 7.590703761132969|\n",
      "|       Spirited Away|         8.3|      3840|7.5852085437584895|\n",
      "|          Inside Out|         8.0|      6560|7.5823785714991185|\n",
      "+--------------------+------------+----------+------------------+\n",
      "only showing top 20 rows\n",
      "\n"
     ]
    }
   ],
   "source": [
    "DF_Final_2=DF_Final.sort(\"score\",ascending=False)\n",
    "DF_Final_2.show()"
   ]
  },
  {
   "cell_type": "markdown",
   "metadata": {},
   "source": [
    "# 2. Content Filtering"
   ]
  },
  {
   "cell_type": "code",
   "execution_count": 7,
   "metadata": {},
   "outputs": [],
   "source": [
    "import pandas as pd \n",
    "import numpy as np\n",
    "\n",
    "%matplotlib inline\n",
    "import pandas as pd\n",
    "import numpy as np\n",
    "import matplotlib.pyplot as plt\n",
    "import seaborn as sns\n",
    "from scipy import stats\n",
    "from ast import literal_eval\n",
    "from sklearn.feature_extraction.text import TfidfVectorizer, CountVectorizer\n",
    "from sklearn.metrics.pairwise import linear_kernel, cosine_similarity\n",
    "from nltk.stem.snowball import SnowballStemmer\n",
    "from nltk.stem.wordnet import WordNetLemmatizer\n",
    "from nltk.corpus import wordnet\n",
    "from sklearn.metrics.pairwise import sigmoid_kernel"
   ]
  },
  {
   "cell_type": "code",
   "execution_count": 8,
   "metadata": {},
   "outputs": [
    {
     "name": "stderr",
     "output_type": "stream",
     "text": [
      "C:\\Users\\Dell\\Anaconda3\\lib\\site-packages\\IPython\\core\\interactiveshell.py:3057: DtypeWarning: Columns (10) have mixed types. Specify dtype option on import or set low_memory=False.\n",
      "  interactivity=interactivity, compiler=compiler, result=result)\n"
     ]
    },
    {
     "data": {
      "text/html": [
       "<div>\n",
       "<style scoped>\n",
       "    .dataframe tbody tr th:only-of-type {\n",
       "        vertical-align: middle;\n",
       "    }\n",
       "\n",
       "    .dataframe tbody tr th {\n",
       "        vertical-align: top;\n",
       "    }\n",
       "\n",
       "    .dataframe thead th {\n",
       "        text-align: right;\n",
       "    }\n",
       "</style>\n",
       "<table border=\"1\" class=\"dataframe\">\n",
       "  <thead>\n",
       "    <tr style=\"text-align: right;\">\n",
       "      <th></th>\n",
       "      <th>adult</th>\n",
       "      <th>belongs_to_collection</th>\n",
       "      <th>budget</th>\n",
       "      <th>genres</th>\n",
       "      <th>id</th>\n",
       "      <th>imdb_id</th>\n",
       "      <th>original_language</th>\n",
       "      <th>original_title</th>\n",
       "      <th>overview</th>\n",
       "      <th>popularity</th>\n",
       "      <th>poster_path</th>\n",
       "      <th>release_date</th>\n",
       "      <th>revenue</th>\n",
       "      <th>runtime</th>\n",
       "      <th>spoken_languages</th>\n",
       "      <th>tagline</th>\n",
       "      <th>title</th>\n",
       "      <th>video</th>\n",
       "      <th>vote_average</th>\n",
       "      <th>vote_count</th>\n",
       "    </tr>\n",
       "  </thead>\n",
       "  <tbody>\n",
       "    <tr>\n",
       "      <th>0</th>\n",
       "      <td>False</td>\n",
       "      <td>{'id': 10194, 'name': 'Toy Story Collection', ...</td>\n",
       "      <td>30000000</td>\n",
       "      <td>[{'id': 16, 'name': 'Animation'}, {'id': 35, '...</td>\n",
       "      <td>862</td>\n",
       "      <td>tt0114709</td>\n",
       "      <td>en</td>\n",
       "      <td>Toy Story</td>\n",
       "      <td>Led by Woody, Andy's toys live happily in his ...</td>\n",
       "      <td>21.9469</td>\n",
       "      <td>/rhIRbceoE9lR4veEXuwCC2wARtG.jpg</td>\n",
       "      <td>1995-10-30</td>\n",
       "      <td>373554033.0</td>\n",
       "      <td>81.0</td>\n",
       "      <td>[{'iso_639_1': 'en', 'name': 'English'}]</td>\n",
       "      <td>NaN</td>\n",
       "      <td>Toy Story</td>\n",
       "      <td>False</td>\n",
       "      <td>7.7</td>\n",
       "      <td>5415.0</td>\n",
       "    </tr>\n",
       "    <tr>\n",
       "      <th>1</th>\n",
       "      <td>False</td>\n",
       "      <td>NaN</td>\n",
       "      <td>65000000</td>\n",
       "      <td>[{'id': 12, 'name': 'Adventure'}, {'id': 14, '...</td>\n",
       "      <td>8844</td>\n",
       "      <td>tt0113497</td>\n",
       "      <td>en</td>\n",
       "      <td>Jumanji</td>\n",
       "      <td>When siblings Judy and Peter discover an encha...</td>\n",
       "      <td>17.0155</td>\n",
       "      <td>/vzmL6fP7aPKNKPRTFnZmiUfciyV.jpg</td>\n",
       "      <td>1995-12-15</td>\n",
       "      <td>262797249.0</td>\n",
       "      <td>104.0</td>\n",
       "      <td>[{'iso_639_1': 'en', 'name': 'English'}, {'iso...</td>\n",
       "      <td>Roll the dice and unleash the excitement!</td>\n",
       "      <td>Jumanji</td>\n",
       "      <td>False</td>\n",
       "      <td>6.9</td>\n",
       "      <td>2413.0</td>\n",
       "    </tr>\n",
       "    <tr>\n",
       "      <th>2</th>\n",
       "      <td>False</td>\n",
       "      <td>{'id': 119050, 'name': 'Grumpy Old Men Collect...</td>\n",
       "      <td>0</td>\n",
       "      <td>[{'id': 10749, 'name': 'Romance'}, {'id': 35, ...</td>\n",
       "      <td>15602</td>\n",
       "      <td>tt0113228</td>\n",
       "      <td>en</td>\n",
       "      <td>Grumpier Old Men</td>\n",
       "      <td>A family wedding reignites the ancient feud be...</td>\n",
       "      <td>11.7129</td>\n",
       "      <td>/6ksm1sjKMFLbO7UY2i6G1ju9SML.jpg</td>\n",
       "      <td>1995-12-22</td>\n",
       "      <td>0.0</td>\n",
       "      <td>101.0</td>\n",
       "      <td>[{'iso_639_1': 'en', 'name': 'English'}]</td>\n",
       "      <td>Still Yelling. Still Fighting. Still Ready for...</td>\n",
       "      <td>Grumpier Old Men</td>\n",
       "      <td>False</td>\n",
       "      <td>6.5</td>\n",
       "      <td>92.0</td>\n",
       "    </tr>\n",
       "    <tr>\n",
       "      <th>3</th>\n",
       "      <td>False</td>\n",
       "      <td>NaN</td>\n",
       "      <td>16000000</td>\n",
       "      <td>[{'id': 35, 'name': 'Comedy'}, {'id': 18, 'nam...</td>\n",
       "      <td>31357</td>\n",
       "      <td>tt0114885</td>\n",
       "      <td>en</td>\n",
       "      <td>Waiting to Exhale</td>\n",
       "      <td>Cheated on, mistreated and stepped on, the wom...</td>\n",
       "      <td>3.85949</td>\n",
       "      <td>/16XOMpEaLWkrcPqSQqhTmeJuqQl.jpg</td>\n",
       "      <td>1995-12-22</td>\n",
       "      <td>81452156.0</td>\n",
       "      <td>127.0</td>\n",
       "      <td>[{'iso_639_1': 'en', 'name': 'English'}]</td>\n",
       "      <td>Friends are the people who let you be yourself...</td>\n",
       "      <td>Waiting to Exhale</td>\n",
       "      <td>False</td>\n",
       "      <td>6.1</td>\n",
       "      <td>34.0</td>\n",
       "    </tr>\n",
       "    <tr>\n",
       "      <th>4</th>\n",
       "      <td>False</td>\n",
       "      <td>{'id': 96871, 'name': 'Father of the Bride Col...</td>\n",
       "      <td>0</td>\n",
       "      <td>[{'id': 35, 'name': 'Comedy'}]</td>\n",
       "      <td>11862</td>\n",
       "      <td>tt0113041</td>\n",
       "      <td>en</td>\n",
       "      <td>Father of the Bride Part II</td>\n",
       "      <td>Just when George Banks has recovered from his ...</td>\n",
       "      <td>8.38752</td>\n",
       "      <td>/e64sOI48hQXyru7naBFyssKFxVd.jpg</td>\n",
       "      <td>1995-02-10</td>\n",
       "      <td>76578911.0</td>\n",
       "      <td>106.0</td>\n",
       "      <td>[{'iso_639_1': 'en', 'name': 'English'}]</td>\n",
       "      <td>Just When His World Is Back To Normal... He's ...</td>\n",
       "      <td>Father of the Bride Part II</td>\n",
       "      <td>False</td>\n",
       "      <td>5.7</td>\n",
       "      <td>173.0</td>\n",
       "    </tr>\n",
       "  </tbody>\n",
       "</table>\n",
       "</div>"
      ],
      "text/plain": [
       "   adult                              belongs_to_collection    budget  \\\n",
       "0  False  {'id': 10194, 'name': 'Toy Story Collection', ...  30000000   \n",
       "1  False                                                NaN  65000000   \n",
       "2  False  {'id': 119050, 'name': 'Grumpy Old Men Collect...         0   \n",
       "3  False                                                NaN  16000000   \n",
       "4  False  {'id': 96871, 'name': 'Father of the Bride Col...         0   \n",
       "\n",
       "                                              genres     id    imdb_id  \\\n",
       "0  [{'id': 16, 'name': 'Animation'}, {'id': 35, '...    862  tt0114709   \n",
       "1  [{'id': 12, 'name': 'Adventure'}, {'id': 14, '...   8844  tt0113497   \n",
       "2  [{'id': 10749, 'name': 'Romance'}, {'id': 35, ...  15602  tt0113228   \n",
       "3  [{'id': 35, 'name': 'Comedy'}, {'id': 18, 'nam...  31357  tt0114885   \n",
       "4                     [{'id': 35, 'name': 'Comedy'}]  11862  tt0113041   \n",
       "\n",
       "  original_language               original_title  \\\n",
       "0                en                    Toy Story   \n",
       "1                en                      Jumanji   \n",
       "2                en             Grumpier Old Men   \n",
       "3                en            Waiting to Exhale   \n",
       "4                en  Father of the Bride Part II   \n",
       "\n",
       "                                            overview popularity  \\\n",
       "0  Led by Woody, Andy's toys live happily in his ...    21.9469   \n",
       "1  When siblings Judy and Peter discover an encha...    17.0155   \n",
       "2  A family wedding reignites the ancient feud be...    11.7129   \n",
       "3  Cheated on, mistreated and stepped on, the wom...    3.85949   \n",
       "4  Just when George Banks has recovered from his ...    8.38752   \n",
       "\n",
       "                        poster_path release_date      revenue  runtime  \\\n",
       "0  /rhIRbceoE9lR4veEXuwCC2wARtG.jpg   1995-10-30  373554033.0     81.0   \n",
       "1  /vzmL6fP7aPKNKPRTFnZmiUfciyV.jpg   1995-12-15  262797249.0    104.0   \n",
       "2  /6ksm1sjKMFLbO7UY2i6G1ju9SML.jpg   1995-12-22          0.0    101.0   \n",
       "3  /16XOMpEaLWkrcPqSQqhTmeJuqQl.jpg   1995-12-22   81452156.0    127.0   \n",
       "4  /e64sOI48hQXyru7naBFyssKFxVd.jpg   1995-02-10   76578911.0    106.0   \n",
       "\n",
       "                                    spoken_languages  \\\n",
       "0           [{'iso_639_1': 'en', 'name': 'English'}]   \n",
       "1  [{'iso_639_1': 'en', 'name': 'English'}, {'iso...   \n",
       "2           [{'iso_639_1': 'en', 'name': 'English'}]   \n",
       "3           [{'iso_639_1': 'en', 'name': 'English'}]   \n",
       "4           [{'iso_639_1': 'en', 'name': 'English'}]   \n",
       "\n",
       "                                             tagline  \\\n",
       "0                                                NaN   \n",
       "1          Roll the dice and unleash the excitement!   \n",
       "2  Still Yelling. Still Fighting. Still Ready for...   \n",
       "3  Friends are the people who let you be yourself...   \n",
       "4  Just When His World Is Back To Normal... He's ...   \n",
       "\n",
       "                         title  video  vote_average  vote_count  \n",
       "0                    Toy Story  False           7.7      5415.0  \n",
       "1                      Jumanji  False           6.9      2413.0  \n",
       "2             Grumpier Old Men  False           6.5        92.0  \n",
       "3            Waiting to Exhale  False           6.1        34.0  \n",
       "4  Father of the Bride Part II  False           5.7       173.0  "
      ]
     },
     "execution_count": 8,
     "metadata": {},
     "output_type": "execute_result"
    }
   ],
   "source": [
    "data= pd.read_csv(\"movies_metadata.csv\")\n",
    "data_clean = data.drop(columns=[\"homepage\",\"status\",\"production_countries\", \"production_companies\"])\n",
    "data_clean.head()"
   ]
  },
  {
   "cell_type": "code",
   "execution_count": 9,
   "metadata": {},
   "outputs": [
    {
     "name": "stdout",
     "output_type": "stream",
     "text": [
      "<class 'pandas.core.frame.DataFrame'>\n",
      "RangeIndex: 45466 entries, 0 to 45465\n",
      "Data columns (total 20 columns):\n",
      "adult                    45466 non-null object\n",
      "belongs_to_collection    4494 non-null object\n",
      "budget                   45466 non-null object\n",
      "genres                   45466 non-null object\n",
      "id                       45466 non-null object\n",
      "imdb_id                  45449 non-null object\n",
      "original_language        45455 non-null object\n",
      "original_title           45466 non-null object\n",
      "overview                 44512 non-null object\n",
      "popularity               45461 non-null object\n",
      "poster_path              45080 non-null object\n",
      "release_date             45379 non-null object\n",
      "revenue                  45460 non-null float64\n",
      "runtime                  45203 non-null float64\n",
      "spoken_languages         45460 non-null object\n",
      "tagline                  20412 non-null object\n",
      "title                    45460 non-null object\n",
      "video                    45460 non-null object\n",
      "vote_average             45460 non-null float64\n",
      "vote_count               45460 non-null float64\n",
      "dtypes: float64(4), object(16)\n",
      "memory usage: 6.9+ MB\n"
     ]
    }
   ],
   "source": [
    "data_clean.info()"
   ]
  },
  {
   "cell_type": "markdown",
   "metadata": {},
   "source": [
    "## Applying TF-IDF to get a score on the overview coloumn"
   ]
  },
  {
   "cell_type": "code",
   "execution_count": 10,
   "metadata": {},
   "outputs": [],
   "source": [
    "tf = TfidfVectorizer(analyzer='word',strip_accents='unicode', ngram_range=(1, 2),min_df=0, stop_words='english')\n",
    "data_clean['overview']=data_clean['overview'].fillna('')\n",
    "data2= data_clean.iloc[1:22733]\n",
    "tfidf_matrix  = tf.fit_transform(data2['overview'].values.astype('U'))"
   ]
  },
  {
   "cell_type": "code",
   "execution_count": 11,
   "metadata": {},
   "outputs": [
    {
     "data": {
      "text/plain": [
       "<22732x568347 sparse matrix of type '<class 'numpy.float64'>'\n",
       "\twith 1246173 stored elements in Compressed Sparse Row format>"
      ]
     },
     "execution_count": 11,
     "metadata": {},
     "output_type": "execute_result"
    }
   ],
   "source": [
    "tfidf_matrix"
   ]
  },
  {
   "cell_type": "markdown",
   "metadata": {},
   "source": [
    "## Generating cosine values for similarity "
   ]
  },
  {
   "cell_type": "code",
   "execution_count": 12,
   "metadata": {},
   "outputs": [],
   "source": [
    "cosine_sin = linear_kernel(tfidf_matrix, tfidf_matrix)"
   ]
  },
  {
   "cell_type": "code",
   "execution_count": 13,
   "metadata": {},
   "outputs": [],
   "source": [
    "indices = pd.Series(data_clean.index, index = data_clean['title']).drop_duplicates()"
   ]
  },
  {
   "cell_type": "code",
   "execution_count": 14,
   "metadata": {},
   "outputs": [
    {
     "data": {
      "text/plain": [
       "title\n",
       "Toy Story                               0\n",
       "Jumanji                                 1\n",
       "Grumpier Old Men                        2\n",
       "Waiting to Exhale                       3\n",
       "Father of the Bride Part II             4\n",
       "Heat                                    5\n",
       "Sabrina                                 6\n",
       "Tom and Huck                            7\n",
       "Sudden Death                            8\n",
       "GoldenEye                               9\n",
       "The American President                 10\n",
       "Dracula: Dead and Loving It            11\n",
       "Balto                                  12\n",
       "Nixon                                  13\n",
       "Cutthroat Island                       14\n",
       "Casino                                 15\n",
       "Sense and Sensibility                  16\n",
       "Four Rooms                             17\n",
       "Ace Ventura: When Nature Calls         18\n",
       "Money Train                            19\n",
       "Get Shorty                             20\n",
       "Copycat                                21\n",
       "Assassins                              22\n",
       "Powder                                 23\n",
       "Leaving Las Vegas                      24\n",
       "Othello                                25\n",
       "Now and Then                           26\n",
       "Persuasion                             27\n",
       "The City of Lost Children              28\n",
       "Shanghai Triad                         29\n",
       "                                    ...  \n",
       "The Final Storm                     45436\n",
       "In a Heartbeat                      45437\n",
       "Blood, Sweat and Tears              45438\n",
       "Jungle Woman                        45439\n",
       "To Be Fat Like Me                   45440\n",
       "Cadet Kelly                         45441\n",
       "The Scheming Gambler's Paradise     45442\n",
       "The Man with the Rubber Head        45443\n",
       "The Living Playing Cards            45444\n",
       "The Hilarious Posters               45445\n",
       "The Devilish Tenant                 45446\n",
       "The Untameable Whiskers             45447\n",
       "The Imperceptable Transmutations    45448\n",
       "Pooh's Heffalump Halloween Movie    45449\n",
       "The One-Man Band                    45450\n",
       "The Fat and Lean Wrestling Match    45451\n",
       "Deep Hearts                         45452\n",
       "Mom                                 45453\n",
       "The Morning After                   45454\n",
       "St. Michael Had a Rooster           45455\n",
       "House of Horrors                    45456\n",
       "Shadow of the Blair Witch           45457\n",
       "The Burkittsville 7                 45458\n",
       "Caged Heat 3000                     45459\n",
       "Robin Hood                          45460\n",
       "Subdue                              45461\n",
       "Century of Birthing                 45462\n",
       "Betrayal                            45463\n",
       "Satan Triumphant                    45464\n",
       "Queerama                            45465\n",
       "Length: 45466, dtype: int64"
      ]
     },
     "execution_count": 14,
     "metadata": {},
     "output_type": "execute_result"
    }
   ],
   "source": [
    "indices "
   ]
  },
  {
   "cell_type": "markdown",
   "metadata": {},
   "source": [
    "## Function to get the desired recommendations "
   ]
  },
  {
   "cell_type": "code",
   "execution_count": 15,
   "metadata": {},
   "outputs": [],
   "source": [
    "def give_rec(title, cosine_sin=cosine_sin):\n",
    "  idx = indices[title]\n",
    "  cosine_scores = list(enumerate(cosine_sin[idx]))\n",
    "\n",
    "  cosine_scores= sorted(cosine_scores, key = lambda x:x[1], reverse= True)\n",
    "\n",
    "  cosine_scores= cosine_scores[1:11]\n",
    "\n",
    "  movie_indices =[i[0] for i in cosine_scores]\n",
    "\n",
    "  return data_clean['title'].iloc[movie_indices]"
   ]
  },
  {
   "cell_type": "code",
   "execution_count": 16,
   "metadata": {},
   "outputs": [
    {
     "data": {
      "text/plain": [
       "[9206, 3329, 442, 234, 21896, 9115, 455, 4100, 4544, 1616]"
      ]
     },
     "execution_count": 16,
     "metadata": {},
     "output_type": "execute_result"
    }
   ],
   "source": [
    "idx = indices['Jumanji']\n",
    "cosine_scores = list(enumerate(cosine_sin[idx]))\n",
    "cosine_scores= sorted(cosine_scores, key = lambda x:x[1], reverse= True)\n",
    "\n",
    "cosine_scores= cosine_scores[1:11]\n",
    "#cosine_scores\n",
    "movie_indices =[i[0] for i in cosine_scores]\n",
    "movie_indices"
   ]
  },
  {
   "cell_type": "code",
   "execution_count": 17,
   "metadata": {},
   "outputs": [
    {
     "data": {
      "text/plain": [
       "[(9206, 0.07579696938564646),\n",
       " (3329, 0.07353015297792409),\n",
       " (442, 0.0645263878168668),\n",
       " (234, 0.06256398426492843),\n",
       " (21896, 0.06142530146055384),\n",
       " (9115, 0.06105865591856748),\n",
       " (455, 0.05919127964095738),\n",
       " (4100, 0.05892361394826967),\n",
       " (4544, 0.05535743287893594),\n",
       " (1616, 0.053694509549697005)]"
      ]
     },
     "execution_count": 17,
     "metadata": {},
     "output_type": "execute_result"
    }
   ],
   "source": [
    "cosine_scores"
   ]
  },
  {
   "cell_type": "markdown",
   "metadata": {},
   "source": [
    "## Generating output of recommendation and cosine scores "
   ]
  },
  {
   "cell_type": "code",
   "execution_count": 36,
   "metadata": {},
   "outputs": [
    {
     "data": {
      "text/plain": [
       "9206                                The 10th Kingdom\n",
       "3329                                 The Good Mother\n",
       "442                                        The Favor\n",
       "234      Far from Home: The Adventures of Yellow Dog\n",
       "21896                                      Backwoods\n",
       "9115                  The Lion King 2: Simba's Pride\n",
       "455                            Getting Even with Dad\n",
       "4100                                    The Brothers\n",
       "4544                                    Tango & Cash\n",
       "1616                                       Artemisia\n",
       "Name: title, dtype: object"
      ]
     },
     "execution_count": 36,
     "metadata": {},
     "output_type": "execute_result"
    }
   ],
   "source": [
    "Recom = give_rec('Jumanji')\n",
    "Recom.head(10)"
   ]
  },
  {
   "cell_type": "markdown",
   "metadata": {},
   "source": [
    "# 3. Collaborative Filtering "
   ]
  },
  {
   "cell_type": "code",
   "execution_count": null,
   "metadata": {
    "id": "fITSr_57vCCh"
   },
   "outputs": [],
   "source": [
    "from pyspark.ml.evaluation import RegressionEvaluator\n",
    "from pyspark.ml.recommendation import ALS\n",
    "from pyspark.sql import Row\n",
    "import math\n",
    "import matplotlib.pyplot as plt"
   ]
  },
  {
   "cell_type": "code",
   "execution_count": null,
   "metadata": {
    "colab": {
     "base_uri": "https://localhost:8080/"
    },
    "id": "RFqyYIyRvCCh",
    "outputId": "4716c883-803a-40b5-e38a-f4071cb14114"
   },
   "outputs": [
    {
     "name": "stdout",
     "output_type": "stream",
     "text": [
      "+------+-------+------+----------+\n",
      "|userId|movieId|rating| timestamp|\n",
      "+------+-------+------+----------+\n",
      "|     1|    110|   1.0|1425941529|\n",
      "|     1|    147|   4.5|1425942435|\n",
      "|     1|    858|   5.0|1425941523|\n",
      "|     1|   1221|   5.0|1425941546|\n",
      "|     1|   1246|   5.0|1425941556|\n",
      "|     1|   1968|   4.0|1425942148|\n",
      "|     1|   2762|   4.5|1425941300|\n",
      "|     1|   2918|   5.0|1425941593|\n",
      "|     1|   2959|   4.0|1425941601|\n",
      "|     1|   4226|   4.0|1425942228|\n",
      "|     1|   4878|   5.0|1425941434|\n",
      "|     1|   5577|   5.0|1425941397|\n",
      "|     1|  33794|   4.0|1425942005|\n",
      "|     1|  54503|   3.5|1425941313|\n",
      "|     1|  58559|   4.0|1425942007|\n",
      "|     1|  59315|   5.0|1425941502|\n",
      "|     1|  68358|   5.0|1425941464|\n",
      "|     1|  69844|   5.0|1425942139|\n",
      "|     1|  73017|   5.0|1425942699|\n",
      "|     1|  81834|   5.0|1425942133|\n",
      "+------+-------+------+----------+\n",
      "only showing top 20 rows\n",
      "\n"
     ]
    }
   ],
   "source": [
    "ratings = spark.read.csv('ratings.csv', inferSchema=True, header=True)\n",
    "ratings.show()"
   ]
  },
  {
   "cell_type": "markdown",
   "metadata": {},
   "source": [
    "## Dataset has 26 million data points "
   ]
  },
  {
   "cell_type": "code",
   "execution_count": null,
   "metadata": {
    "colab": {
     "base_uri": "https://localhost:8080/"
    },
    "id": "zFzXXxEDyYXM",
    "outputId": "d3c5d003-4072-4e22-df3d-9a0eb9c2c4f3"
   },
   "outputs": [
    {
     "data": {
      "text/plain": [
       "26024289"
      ]
     },
     "execution_count": 30,
     "metadata": {
      "tags": []
     },
     "output_type": "execute_result"
    }
   ],
   "source": [
    "ratings.count()"
   ]
  },
  {
   "cell_type": "markdown",
   "metadata": {},
   "source": [
    "## Train-Test Split "
   ]
  },
  {
   "cell_type": "code",
   "execution_count": null,
   "metadata": {
    "id": "M8iEl17PvCCi"
   },
   "outputs": [],
   "source": [
    "(training, test) = ratings.randomSplit([0.8, 0.2], 12345)"
   ]
  },
  {
   "cell_type": "markdown",
   "metadata": {},
   "source": [
    "## Building and trying different configurations for the ALS model "
   ]
  },
  {
   "cell_type": "code",
   "execution_count": null,
   "metadata": {
    "id": "k-Ezq6w72r3_"
   },
   "outputs": [],
   "source": [
    "#defining parameters\n",
    "ranks = [4, 6, 8, 10, 12]\n",
    "iterations = 10 \n",
    "regularization_parameter = 0.1\n",
    "reg_list = [0.1, 0.001, 0.0001]"
   ]
  },
  {
   "cell_type": "code",
   "execution_count": null,
   "metadata": {
    "colab": {
     "base_uri": "https://localhost:8080/"
    },
    "id": "6QX9mLd6vCCi",
    "outputId": "e57a1b72-fb3c-4d5c-9325-d862d5c09266"
   },
   "outputs": [
    {
     "name": "stdout",
     "output_type": "stream",
     "text": [
      "4\n",
      "Root-mean-square error = 0.8282822428431659\n",
      "6\n",
      "Root-mean-square error = 0.8195130556912733\n",
      "8\n",
      "Root-mean-square error = 0.8176971766573341\n",
      "10\n",
      "Root-mean-square error = 0.8141818761421623\n",
      "12\n",
      "Root-mean-square error = 0.8129514335331728\n"
     ]
    }
   ],
   "source": [
    "# Build the recommendation model using ALS on the training data\n",
    "error_list = []\n",
    "\n",
    "for rank in ranks:\n",
    "    als = ALS(maxIter=iterations, rank=rank, regParam=regularization_parameter, userCol=\"userId\", itemCol=\"movieId\", \n",
    "              ratingCol=\"rating\", coldStartStrategy=\"drop\")\n",
    "    model = als.fit(training)\n",
    "    predictions = model.transform(test)\n",
    "    evaluator = RegressionEvaluator(metricName=\"rmse\", labelCol=\"rating\",\n",
    "                                    predictionCol=\"prediction\")\n",
    "    rmse = evaluator.evaluate(predictions)\n",
    "    error_list.append(rmse)\n",
    "    print(rank)\n",
    "    print(\"Root-mean-square error = \" + str(rmse))"
   ]
  },
  {
   "cell_type": "code",
   "execution_count": null,
   "metadata": {
    "colab": {
     "base_uri": "https://localhost:8080/",
     "height": 312
    },
    "id": "clvp9TxzvCCi",
    "outputId": "17961c36-1db7-4eaa-9e2d-a230344683fa"
   },
   "outputs": [
    {
     "name": "stderr",
     "output_type": "stream",
     "text": [
      "No handles with labels found to put in legend.\n"
     ]
    },
    {
     "data": {
      "image/png": "[encoded data removed]",
      "text/plain": [
       "<Figure size 432x288 with 1 Axes>"
      ]
     },
     "metadata": {
      "needs_background": "light",
      "tags": []
     },
     "output_type": "display_data"
    }
   ],
   "source": [
    "\n",
    "plt.plot(ranks, error_list)\n",
    "\n",
    "plt.legend()\n",
    "plt.title('Rank vs RMSE')\n",
    "plt.xlabel('Rank')\n",
    "plt.ylabel('RMSE')\n",
    "\n",
    "plt.show()"
   ]
  },
  {
   "cell_type": "code",
   "execution_count": null,
   "metadata": {
    "colab": {
     "base_uri": "https://localhost:8080/"
    },
    "id": "L0K5-BB1AwTM",
    "outputId": "5d13c7ef-0af3-4cce-d90e-50dfdf5901fb"
   },
   "outputs": [
    {
     "name": "stdout",
     "output_type": "stream",
     "text": [
      "0.1\n",
      "Root-mean-square error = 0.8141818761421623\n",
      "0.001\n",
      "Root-mean-square error = 0.8545044678195689\n",
      "0.0001\n",
      "Root-mean-square error = 0.967146459486762\n"
     ]
    }
   ],
   "source": [
    "# Build the recommendation model using ALS on the training data\n",
    "error_list_reg = []\n",
    "\n",
    "for reg in reg_list:\n",
    "    als = ALS(maxIter=iterations, regParam=reg, userCol=\"userId\", itemCol=\"movieId\", \n",
    "              ratingCol=\"rating\", coldStartStrategy=\"drop\")\n",
    "    model = als.fit(training)\n",
    "    predictions = model.transform(test)\n",
    "    evaluator = RegressionEvaluator(metricName=\"rmse\", labelCol=\"rating\",\n",
    "                                    predictionCol=\"prediction\")\n",
    "    rmse = evaluator.evaluate(predictions)\n",
    "    error_list_reg.append(rmse)\n",
    "    print(reg)\n",
    "    print(\"Root-mean-square error = \" + str(rmse))"
   ]
  },
  {
   "cell_type": "code",
   "execution_count": null,
   "metadata": {
    "colab": {
     "base_uri": "https://localhost:8080/",
     "height": 312
    },
    "id": "wrVn3oN8BpyO",
    "outputId": "91b7299b-f7cc-4e53-ccd3-a932447d31d5"
   },
   "outputs": [
    {
     "name": "stderr",
     "output_type": "stream",
     "text": [
      "No handles with labels found to put in legend.\n"
     ]
    },
    {
     "data": {
      "image/png": "[encoded data removed]",
      "text/plain": [
       "<Figure size 432x288 with 1 Axes>"
      ]
     },
     "metadata": {
      "needs_background": "light",
      "tags": []
     },
     "output_type": "display_data"
    }
   ],
   "source": [
    "\n",
    "plt.plot(reg_list, error_list_reg)\n",
    "\n",
    "plt.legend()\n",
    "plt.title('Regularization Factor vs RMSE')\n",
    "plt.xlabel('Regularization Factor')\n",
    "plt.ylabel('RMSE')\n",
    "\n",
    "plt.show()"
   ]
  },
  {
   "cell_type": "markdown",
   "metadata": {},
   "source": [
    "## Building the model with the best configurations "
   ]
  },
  {
   "cell_type": "code",
   "execution_count": null,
   "metadata": {
    "colab": {
     "base_uri": "https://localhost:8080/"
    },
    "id": "laxgsQp0vCCi",
    "outputId": "cc4c4a1f-b4ef-4bf5-82a3-8990c7cb4e85"
   },
   "outputs": [
    {
     "name": "stdout",
     "output_type": "stream",
     "text": [
      "Root-mean-square error = 0.8129514335331728\n"
     ]
    }
   ],
   "source": [
    "als = ALS(maxIter=iterations, rank=12, regParam=regularization_parameter, userCol=\"userId\", itemCol=\"movieId\", \n",
    "              ratingCol=\"rating\", coldStartStrategy=\"drop\")\n",
    "model = als.fit(training)\n",
    "predictions = model.transform(test)\n",
    "evaluator = RegressionEvaluator(metricName=\"rmse\", labelCol=\"rating\",\n",
    "                                predictionCol=\"prediction\")\n",
    "rmse = evaluator.evaluate(predictions)\n",
    "error_list.append(rmse)\n",
    "\n",
    "print(\"Root-mean-square error = \" + str(rmse))"
   ]
  },
  {
   "cell_type": "code",
   "execution_count": null,
   "metadata": {
    "colab": {
     "base_uri": "https://localhost:8080/"
    },
    "id": "DzEnMh3vvCCj",
    "outputId": "4c7438f7-98c7-44a4-9a98-a0459b072f45"
   },
   "outputs": [
    {
     "name": "stdout",
     "output_type": "stream",
     "text": [
      "+------+--------------------+\n",
      "|userId|     recommendations|\n",
      "+------+--------------------+\n",
      "|   148|[[154588, 5.29483...|\n",
      "|   463|[[151989, 4.35569...|\n",
      "|   471|[[144202, 5.55975...|\n",
      "|   496|[[151989, 5.72557...|\n",
      "|   833|[[120134, 5.88137...|\n",
      "|  1088|[[144202, 6.56342...|\n",
      "|  1238|[[151989, 4.93685...|\n",
      "|  1342|[[88642, 5.06871]...|\n",
      "|  1580|[[140323, 5.77201...|\n",
      "|  1591|[[117907, 5.64485...|\n",
      "|  1645|[[98693, 4.890036...|\n",
      "|  1829|[[165689, 5.70665...|\n",
      "|  1959|[[166812, 4.32237...|\n",
      "|  2122|[[151989, 6.09608...|\n",
      "|  2142|[[131359, 6.46597...|\n",
      "|  2366|[[151989, 5.38253...|\n",
      "|  2659|[[151989, 5.68631...|\n",
      "|  2866|[[165689, 5.41376...|\n",
      "|  3175|[[151989, 5.54334...|\n",
      "|  3749|[[101862, 5.85834...|\n",
      "+------+--------------------+\n",
      "only showing top 20 rows\n",
      "\n"
     ]
    }
   ],
   "source": [
    "# Generate top 10 movie recommendations for each user\n",
    "userRecs = model.recommendForAllUsers(10)\n",
    "userRecs.show()"
   ]
  },
  {
   "cell_type": "code",
   "execution_count": null,
   "metadata": {
    "colab": {
     "base_uri": "https://localhost:8080/"
    },
    "id": "DT7EqoWyvCCj",
    "outputId": "ca69f10f-5fdf-41f0-dc47-f571021a606a"
   },
   "outputs": [
    {
     "name": "stdout",
     "output_type": "stream",
     "text": [
      "+-------+--------------------+\n",
      "|movieId|     recommendations|\n",
      "+-------+--------------------+\n",
      "|    148|[[6829, 4.608085]...|\n",
      "|    463|[[43804, 5.208755...|\n",
      "|    471|[[97726, 5.47124]...|\n",
      "|    496|[[113751, 5.27973...|\n",
      "|    833|[[223997, 5.44316...|\n",
      "|   1088|[[255815, 5.71337...|\n",
      "|   1238|[[154320, 5.89566...|\n",
      "|   1342|[[186374, 5.35254...|\n",
      "|   1580|[[61540, 5.540261...|\n",
      "|   1591|[[51433, 4.761017...|\n",
      "|   1645|[[61540, 5.66028]...|\n",
      "|   1829|[[44845, 4.938488...|\n",
      "|   1959|[[44845, 5.614224...|\n",
      "|   2122|[[186374, 5.25144...|\n",
      "|   2142|[[110072, 5.18008...|\n",
      "|   2366|[[154320, 6.03435...|\n",
      "|   2659|[[87232, 4.977821...|\n",
      "|   2866|[[154320, 5.39582...|\n",
      "|   3175|[[154320, 5.59230...|\n",
      "|   3749|[[134950, 5.68766...|\n",
      "+-------+--------------------+\n",
      "only showing top 20 rows\n",
      "\n"
     ]
    }
   ],
   "source": [
    "# Generate top 10 user recommendations for each movie\n",
    "movieRecs = model.recommendForAllItems(10)\n",
    "movieRecs.show()"
   ]
  },
  {
   "cell_type": "markdown",
   "metadata": {},
   "source": [
    "## Checking for number of iterations to avoid overfitting on training data "
   ]
  },
  {
   "cell_type": "code",
   "execution_count": null,
   "metadata": {
    "colab": {
     "base_uri": "https://localhost:8080/"
    },
    "id": "zgxi1_2NvCCj",
    "outputId": "c5374974-a65b-44a1-d365-fe67c0bd4360"
   },
   "outputs": [
    {
     "name": "stdout",
     "output_type": "stream",
     "text": [
      "0\n",
      "Root-mean-square error = 3.6971979034726807\n",
      "1\n",
      "Root-mean-square error = 3.4871857978249166\n",
      "2\n",
      "Root-mean-square error = 0.8798485728969366\n",
      "3\n",
      "Root-mean-square error = 0.8375128126467306\n",
      "4\n",
      "Root-mean-square error = 0.8258806239427203\n",
      "5\n",
      "Root-mean-square error = 0.8204495168049386\n",
      "6\n",
      "Root-mean-square error = 0.8175439256625885\n",
      "7\n",
      "Root-mean-square error = 0.815744810274317\n",
      "8\n",
      "Root-mean-square error = 0.8145074768861879\n",
      "9\n",
      "Root-mean-square error = 0.8136125754448493\n"
     ]
    }
   ],
   "source": [
    "error_list_train = []\n",
    "error_list_test = []\n",
    "\n",
    "for epoch in range(iterations):\n",
    "    als = ALS(maxIter=epoch, rank=12, regParam=regularization_parameter, userCol=\"userId\", itemCol=\"movieId\", \n",
    "              ratingCol=\"rating\", coldStartStrategy=\"drop\")\n",
    "    model = als.fit(training)\n",
    "    predictions1 = model.transform(training)\n",
    "    predictions2 = model.transform(test)\n",
    "    evaluator = RegressionEvaluator(metricName=\"rmse\", labelCol=\"rating\",\n",
    "                                    predictionCol=\"prediction\")\n",
    "    rmse1 = evaluator.evaluate(predictions1)\n",
    "    rmse2 = evaluator.evaluate(predictions2)\n",
    "    error_list_train.append(rmse1)\n",
    "    error_list_test.append(rmse2)\n",
    "    print(epoch)\n",
    "    print(\"Root-mean-square error = \" + str(rmse2))"
   ]
  },
  {
   "cell_type": "code",
   "execution_count": null,
   "metadata": {
    "colab": {
     "base_uri": "https://localhost:8080/",
     "height": 295
    },
    "id": "r5QNFFncvCCj",
    "outputId": "80d12039-da7a-484c-fa67-c3063c9f9d0e"
   },
   "outputs": [
    {
     "data": {
      "image/png": "[encoded data removed]",
      "text/plain": [
       "<Figure size 432x288 with 1 Axes>"
      ]
     },
     "metadata": {
      "needs_background": "light",
      "tags": []
     },
     "output_type": "display_data"
    }
   ],
   "source": [
    "epoch = [1, 2, 3, 4, 5, 6, 7, 8, 9, 10]\n",
    "\n",
    "plt.plot(epoch,error_list_train,label='train')\n",
    "plt.plot(epoch, error_list_test,label='test')\n",
    "\n",
    "plt.legend()\n",
    "plt.title('Iterations vs RMSE')\n",
    "plt.xlabel('Iterations')\n",
    "plt.ylabel('RMSE')\n",
    "\n",
    "plt.show()"
   ]
  },
  {
   "cell_type": "code",
   "execution_count": null,
   "metadata": {
    "id": "NMCl62LQ_6BX"
   },
   "outputs": [],
   "source": [
    "userRecs_pd = userRecs.toPandas()\n",
    "userRecs_pd.to_csv(r\"Users.csv\", index = False)"
   ]
  },
  {
   "cell_type": "code",
   "execution_count": null,
   "metadata": {
    "id": "6-c0TxO2vCCj"
   },
   "outputs": [],
   "source": [
    "movieRecs_pd = movieRecs.toPandas()\n",
    "movieRecs_pd.to_csv(r\"Movies.csv\", index = False)"
   ]
  },
  {
   "cell_type": "code",
   "execution_count": null,
   "metadata": {
    "id": "bcmUrF4cK9TD"
   },
   "outputs": [],
   "source": []
  }
 ],
 "metadata": {
  "colab": {
   "name": "Project.ipynb",
   "provenance": []
  },
  "kernelspec": {
   "display_name": "Python 3",
   "language": "python",
   "name": "python3"
  },
  "language_info": {
   "codemirror_mode": {
    "name": "ipython",
    "version": 3
   },
   "file_extension": ".py",
   "mimetype": "text/x-python",
   "name": "python",
   "nbconvert_exporter": "python",
   "pygments_lexer": "ipython3",
   "version": "3.7.3"
  }
 },
 "nbformat": 4,
 "nbformat_minor": 1
}
